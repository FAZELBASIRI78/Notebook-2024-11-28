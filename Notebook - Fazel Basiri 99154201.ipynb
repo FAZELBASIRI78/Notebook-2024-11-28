{
 "cells": [
  {
   "cell_type": "markdown",
   "id": "75fd5c62-407b-4d74-9c8c-239cdb04c800",
   "metadata": {},
   "source": [
    "# Course: Advanced Programming at semester 14031 in Intl. Campus of SUT\n",
    "### Teacher: Dr. Hosein Pour\n",
    "### Student & ID: M. Fazel Basiri 99154201\n",
    "\n",
    "# Pre Session:"
   ]
  },
  {
   "cell_type": "code",
   "execution_count": 1,
   "id": "50c6ee46-6ed2-47cf-942a-00fa98d20f36",
   "metadata": {},
   "outputs": [
    {
     "name": "stdout",
     "output_type": "stream",
     "text": [
      "2\n"
     ]
    }
   ],
   "source": [
    "a = 2\n",
    "b = 1\n",
    "d = a or b\n",
    "print(d)"
   ]
  },
  {
   "cell_type": "code",
   "execution_count": 2,
   "id": "e282c8e7-f803-4d7c-9543-caa64de01897",
   "metadata": {},
   "outputs": [
    {
     "name": "stdout",
     "output_type": "stream",
     "text": [
      "1\n"
     ]
    }
   ],
   "source": [
    "a = 2\n",
    "b = 1\n",
    "d = a and b\n",
    "print(d)"
   ]
  },
  {
   "cell_type": "code",
   "execution_count": 3,
   "id": "a0c545f8-4986-4f2f-a7ca-3107471f8b7b",
   "metadata": {},
   "outputs": [
    {
     "data": {
      "text/plain": [
       "1"
      ]
     },
     "execution_count": 3,
     "metadata": {},
     "output_type": "execute_result"
    }
   ],
   "source": [
    "a and b"
   ]
  },
  {
   "cell_type": "code",
   "execution_count": 4,
   "id": "dbe8e175-ef82-4802-a0bf-6d6128ff609d",
   "metadata": {},
   "outputs": [
    {
     "data": {
      "text/plain": [
       "1"
      ]
     },
     "execution_count": 4,
     "metadata": {},
     "output_type": "execute_result"
    }
   ],
   "source": [
    "a and b"
   ]
  },
  {
   "cell_type": "code",
   "execution_count": 5,
   "id": "dc234ed2-cb4b-42b6-a77c-ce4b21bd86c1",
   "metadata": {},
   "outputs": [
    {
     "name": "stdout",
     "output_type": "stream",
     "text": [
      "False\n"
     ]
    }
   ],
   "source": [
    "a = True\n",
    "b =False\n",
    "d = a and b\n",
    "print(d)"
   ]
  },
  {
   "cell_type": "code",
   "execution_count": 6,
   "id": "fe735226-b790-487a-b161-088d173947c2",
   "metadata": {},
   "outputs": [
    {
     "name": "stdout",
     "output_type": "stream",
     "text": [
      "False\n"
     ]
    }
   ],
   "source": [
    "a = False\n",
    "b = True\n",
    "d = a and b\n",
    "print(d)"
   ]
  },
  {
   "cell_type": "code",
   "execution_count": 7,
   "id": "2ccad34d-434e-4faf-af50-28ca52272e21",
   "metadata": {},
   "outputs": [
    {
     "name": "stdout",
     "output_type": "stream",
     "text": [
      "0\n"
     ]
    }
   ],
   "source": [
    "a = 1\n",
    "b = 0\n",
    "d = a and b\n",
    "print(d)"
   ]
  },
  {
   "cell_type": "code",
   "execution_count": 8,
   "id": "2cfb62a7-74e1-4ad8-9097-d1666e060d4b",
   "metadata": {},
   "outputs": [
    {
     "name": "stdout",
     "output_type": "stream",
     "text": [
      "0\n"
     ]
    }
   ],
   "source": [
    "a = 1\n",
    "b = 0\n",
    "d = a and b\n",
    "print(d)"
   ]
  },
  {
   "cell_type": "markdown",
   "id": "e91949c1-9056-4a54-b720-6d644c6f9361",
   "metadata": {},
   "source": [
    "# Markdown Session (Session 4):\n"
   ]
  },
  {
   "cell_type": "markdown",
   "id": "c33828fc-22ae-46f4-bd04-1dda11eb3825",
   "metadata": {},
   "source": [
    "# 1 subject"
   ]
  },
  {
   "cell_type": "markdown",
   "id": "cdf116b1-acdc-45d6-9a18-a6625b364b26",
   "metadata": {},
   "source": [
    "## 1-1 intro"
   ]
  },
  {
   "cell_type": "markdown",
   "id": "8c20c349-cbd9-489c-9d28-a7a1e71b8332",
   "metadata": {},
   "source": [
    "### 1-1-1 details"
   ]
  },
  {
   "cell_type": "markdown",
   "id": "d57c480d-b6a4-44f9-ae7a-1144b37c9a07",
   "metadata": {},
   "source": [
    "# Font"
   ]
  },
  {
   "cell_type": "markdown",
   "id": "7a2f0d5f-69b4-4f4c-be34-69939c10e7f1",
   "metadata": {},
   "source": [
    "### Italic : *Fazel*"
   ]
  },
  {
   "cell_type": "markdown",
   "id": "fde53339-1081-4134-8dc8-5d65924f8958",
   "metadata": {},
   "source": [
    "### Bold : **Fazel**"
   ]
  },
  {
   "cell_type": "markdown",
   "id": "119d0d59-bb16-4f80-b493-16265b7a1bf4",
   "metadata": {},
   "source": [
    "### Italic & Bold : ***Fazel***"
   ]
  },
  {
   "cell_type": "markdown",
   "id": "1d79652b-db23-46b4-b0be-a476270a0888",
   "metadata": {},
   "source": [
    "### Differenct font : $$Fazel$$"
   ]
  },
  {
   "cell_type": "markdown",
   "id": "5b8c82a5-e85e-452d-b7eb-eb22d54d1b9a",
   "metadata": {},
   "source": [
    "### List :\n",
    " - Fa\n",
    " - Ze\n",
    " - L"
   ]
  },
  {
   "cell_type": "markdown",
   "id": "6634add5-0d81-4dc0-a6ee-3f3e1ffd9a40",
   "metadata": {},
   "source": [
    "### Tree in writing:\n",
    "- Unit 1\n",
    "- Unit 2\n",
    "    - Unit 2.1\n",
    "        - Unit a"
   ]
  },
  {
   "cell_type": "markdown",
   "id": "fcf95e9a-6ec3-4ed1-abd1-744c1b2b7638",
   "metadata": {},
   "source": [
    "2. Units\n",
    "    1. Unit 1\n",
    "    2. Unit 2\n",
    "        1. Unit 2.1"
   ]
  },
  {
   "cell_type": "markdown",
   "id": "501645cb-6ba4-451a-b9f2-77c045d51f47",
   "metadata": {},
   "source": [
    "### Link :\n",
    "Here you can find [Football Results](https://varzesh3.com)"
   ]
  },
  {
   "cell_type": "markdown",
   "id": "2ff2ead7-1c30-45ce-b8dc-5a704f2e505f",
   "metadata": {},
   "source": [
    "### Picture :\n",
    "This is SUT's logo\n",
    "\n",
    "![Sharif Logo](https://encrypted-tbn0.gstatic.com/images?q=tbn:ANd9GcRhKO_JjL7krcroP69MiOGiiTGEyiJEuTNQrw&s)"
   ]
  },
  {
   "cell_type": "markdown",
   "id": "7ae65f32-1b43-4f6f-a801-4573c7854eed",
   "metadata": {},
   "source": [
    "![REAL MADRID LOGO](RM_logo.jpg)"
   ]
  },
  {
   "cell_type": "markdown",
   "id": "3a88e765-0ed7-4fc2-87e7-953c88e5af27",
   "metadata": {},
   "source": [
    "![Naser Hejazi](images.jfif)"
   ]
  },
  {
   "cell_type": "markdown",
   "id": "75a7f566-ae8f-433d-8bb3-175771e43d8e",
   "metadata": {},
   "source": [
    "![Hejazi](Images/download.webp)"
   ]
  },
  {
   "cell_type": "markdown",
   "id": "d470cc0a-0488-43b2-bff9-989d9f93a051",
   "metadata": {},
   "source": [
    "<img src=\"Images/download.webp\" alt=\"Alt text\" width=\"100\" height=\"50\">"
   ]
  },
  {
   "cell_type": "markdown",
   "id": "61d343ec-9e52-44ab-8ff4-2feaaa1e6a2f",
   "metadata": {},
   "source": [
    "### Code Block :\n",
    "`Fazel` or ```Fazel```"
   ]
  },
  {
   "cell_type": "markdown",
   "id": "afc0ef8b-2a45-4cb4-b476-8853c510a158",
   "metadata": {},
   "source": [
    "### Quote :\n",
    "> Real Madrid"
   ]
  },
  {
   "cell_type": "markdown",
   "id": "42780533-8f60-463b-b288-8d13b307e17e",
   "metadata": {},
   "source": [
    "### Table :\n",
    "| Mah  | Fazel |\n",
    "|-------|-------|\n",
    "|Sorena | Sorena|\n",
    "|Kazhal | Kazhal|"
   ]
  },
  {
   "cell_type": "markdown",
   "id": "47928697-d817-44f3-b4fe-5c929f59e1a7",
   "metadata": {},
   "source": [
    "### Formula :\n",
    "$E=MC^2$\n",
    "$$\n",
    "E=MC^2\n",
    "$$"
   ]
  },
  {
   "cell_type": "markdown",
   "id": "61248782-0409-4120-8980-d93837ea0cb9",
   "metadata": {},
   "source": [
    "### Task List :\n",
    "- [ ] Midterm\n",
    "- [ ] Football\n",
    "- [x] Studying"
   ]
  },
  {
   "cell_type": "markdown",
   "id": "fe58c66c-6e4a-4d92-ac2a-16b12baa7259",
   "metadata": {},
   "source": [
    "# Session 5\n",
    "## Variable name :\n",
    "- camelCase\n",
    "- snake_case"
   ]
  },
  {
   "cell_type": "code",
   "execution_count": 9,
   "id": "9e00df0b-b31d-452d-8c1d-3ce30e29f040",
   "metadata": {},
   "outputs": [],
   "source": [
    "fazelAge = 25\n",
    "Fazel_Age = 26"
   ]
  },
  {
   "cell_type": "markdown",
   "id": "0d4b9531-a86e-4b76-9403-41715316b382",
   "metadata": {},
   "source": [
    "## Strings concept :"
   ]
  },
  {
   "cell_type": "markdown",
   "id": "998074b8-5272-48b7-89c7-338b39f3c0c5",
   "metadata": {},
   "source": [
    "## creating an standard form of a vaiable"
   ]
  },
  {
   "cell_type": "code",
   "execution_count": 10,
   "id": "7050d674-bbac-4abb-8b6e-761e7600b6df",
   "metadata": {},
   "outputs": [],
   "source": [
    "myName = 'MohammadFazel'"
   ]
  },
  {
   "cell_type": "code",
   "execution_count": 11,
   "id": "b78a4a0a-bf76-458e-8e64-6546a6bf17eb",
   "metadata": {},
   "outputs": [
    {
     "name": "stdout",
     "output_type": "stream",
     "text": [
      "MohammadFazel\n"
     ]
    }
   ],
   "source": [
    "print (myName)"
   ]
  },
  {
   "cell_type": "markdown",
   "id": "f323fc44-3142-434b-be74-f5854c064da7",
   "metadata": {},
   "source": [
    "### Len Function"
   ]
  },
  {
   "cell_type": "code",
   "execution_count": 12,
   "id": "7ba5560f-a4ab-41fe-9957-70dbf31423cf",
   "metadata": {},
   "outputs": [
    {
     "data": {
      "text/plain": [
       "13"
      ]
     },
     "execution_count": 12,
     "metadata": {},
     "output_type": "execute_result"
    }
   ],
   "source": [
    "len(myName)"
   ]
  },
  {
   "cell_type": "code",
   "execution_count": 13,
   "id": "084f9790-9127-4cf7-a143-242ebae3415d",
   "metadata": {},
   "outputs": [
    {
     "data": {
      "text/plain": [
       "17"
      ]
     },
     "execution_count": 13,
     "metadata": {},
     "output_type": "execute_result"
    }
   ],
   "source": [
    "len('Mohammad2499Fazel')"
   ]
  },
  {
   "cell_type": "markdown",
   "id": "bc04c9f2-cf8c-4f6b-bc37-962e8e0c3469",
   "metadata": {},
   "source": [
    "#### Finding character by its place"
   ]
  },
  {
   "cell_type": "code",
   "execution_count": 14,
   "id": "110f516b-4880-4f95-b28d-bd48bfbec5ee",
   "metadata": {},
   "outputs": [
    {
     "data": {
      "text/plain": [
       "'M'"
      ]
     },
     "execution_count": 14,
     "metadata": {},
     "output_type": "execute_result"
    }
   ],
   "source": [
    "myName[0]"
   ]
  },
  {
   "cell_type": "code",
   "execution_count": 15,
   "id": "6c31c48d-5203-45b3-bea8-8722b5921253",
   "metadata": {},
   "outputs": [
    {
     "data": {
      "text/plain": [
       "'o'"
      ]
     },
     "execution_count": 15,
     "metadata": {},
     "output_type": "execute_result"
    }
   ],
   "source": [
    "myName[1]"
   ]
  },
  {
   "cell_type": "code",
   "execution_count": 16,
   "id": "d55c0608-ee7e-41be-b4f5-a0052607517f",
   "metadata": {},
   "outputs": [
    {
     "data": {
      "text/plain": [
       "'l'"
      ]
     },
     "execution_count": 16,
     "metadata": {},
     "output_type": "execute_result"
    }
   ],
   "source": [
    "myName[-1]"
   ]
  },
  {
   "cell_type": "code",
   "execution_count": 17,
   "id": "40372938-0f4d-4755-ad8e-059987dab283",
   "metadata": {},
   "outputs": [
    {
     "data": {
      "text/plain": [
       "'l'"
      ]
     },
     "execution_count": 17,
     "metadata": {},
     "output_type": "execute_result"
    }
   ],
   "source": [
    "myName[len(myName)-1]"
   ]
  },
  {
   "cell_type": "markdown",
   "id": "297dc9a6-f88e-469d-8c93-ba3b4fc6e1ad",
   "metadata": {},
   "source": [
    "### Interval in indics"
   ]
  },
  {
   "cell_type": "code",
   "execution_count": 18,
   "id": "2369fdb4-2863-4b34-b59d-2bb587b1a52c",
   "metadata": {},
   "outputs": [
    {
     "data": {
      "text/plain": [
       "'ohamma'"
      ]
     },
     "execution_count": 18,
     "metadata": {},
     "output_type": "execute_result"
    }
   ],
   "source": [
    "myName [1:7]"
   ]
  },
  {
   "cell_type": "code",
   "execution_count": 19,
   "id": "c90a54db-8a60-4f8e-a73a-e9c759ecec42",
   "metadata": {},
   "outputs": [
    {
     "data": {
      "text/plain": [
       "'hamma'"
      ]
     },
     "execution_count": 19,
     "metadata": {},
     "output_type": "execute_result"
    }
   ],
   "source": [
    "myName [2:7] #Finding characters between two place by defining a range"
   ]
  },
  {
   "cell_type": "markdown",
   "id": "6f250619-888d-4728-9bf3-42de60513417",
   "metadata": {},
   "source": [
    "### String addition"
   ]
  },
  {
   "cell_type": "code",
   "execution_count": 20,
   "id": "0a3b6611-3481-4fb7-8edc-92add219d589",
   "metadata": {},
   "outputs": [
    {
     "data": {
      "text/plain": [
       "'MohammadFazelBasiri'"
      ]
     },
     "execution_count": 20,
     "metadata": {},
     "output_type": "execute_result"
    }
   ],
   "source": [
    "myFamilly = 'Basiri'\n",
    "myFullName = myName + myFamilly\n",
    "myFullName"
   ]
  },
  {
   "cell_type": "markdown",
   "id": "1c048513-a058-4aea-8036-72005595bb7e",
   "metadata": {},
   "source": [
    "### String multiplication"
   ]
  },
  {
   "cell_type": "code",
   "execution_count": 21,
   "id": "57236bfb-9d48-4ab5-bd23-65c87e2108be",
   "metadata": {},
   "outputs": [
    {
     "data": {
      "text/plain": [
       "'MohammadFazelBasiriMohammadFazelBasiri'"
      ]
     },
     "execution_count": 21,
     "metadata": {},
     "output_type": "execute_result"
    }
   ],
   "source": [
    "myDoubleFullName = myFullName * 2  #We can't multiply two strings together\n",
    "myDoubleFullName"
   ]
  },
  {
   "cell_type": "code",
   "execution_count": 22,
   "id": "6061303e-e781-4aaf-a8a9-5c4e6b5286e8",
   "metadata": {},
   "outputs": [
    {
     "data": {
      "text/plain": [
       "'MohammadFazelBasiriMohammadFazelBasiriMohammadFazelBasiriMohammadFazelBasiriMohammadFazelBasiriMohammadFazelBasiriMohammadFazelBasiriMohammadFazelBasiriMohammadFazelBasiriMohammadFazelBasiriMohammadFazelBasiriMohammadFazelBasiriMohammadFazelBasiriMohammadFazelBasiriMohammadFazelBasiriMohammadFazelBasiriMohammadFazelBasiriMohammadFazelBasiriMohammadFazelBasiriMohammadFazelBasiri'"
      ]
     },
     "execution_count": 22,
     "metadata": {},
     "output_type": "execute_result"
    }
   ],
   "source": [
    "myDoubleFullName = myFullName * 20  #We can't multiply two strings together\n",
    "myDoubleFullName"
   ]
  },
  {
   "cell_type": "code",
   "execution_count": 23,
   "id": "5c296a19-dcf7-4132-870b-f7d04b4b99aa",
   "metadata": {},
   "outputs": [
    {
     "name": "stdout",
     "output_type": "stream",
     "text": [
      "2\n",
      "11\n",
      " ok\n",
      " lets\n",
      " go\n",
      "\n"
     ]
    }
   ],
   "source": [
    "tempInt = 1\n",
    "tempStr = '1'\n",
    "print(tempInt*2)\n",
    "print(tempStr*2)\n",
    "temp = \"\"\" ok\n",
    " lets\n",
    " go\n",
    "\"\"\"\n",
    "print(temp)"
   ]
  },
  {
   "cell_type": "code",
   "execution_count": 24,
   "id": "16bcc059-4717-4d2b-bcd8-54b72f913800",
   "metadata": {},
   "outputs": [
    {
     "data": {
      "text/plain": [
       "'MohammadFazel'"
      ]
     },
     "execution_count": 24,
     "metadata": {},
     "output_type": "execute_result"
    }
   ],
   "source": [
    "myName"
   ]
  },
  {
   "cell_type": "code",
   "execution_count": 25,
   "id": "bbe0f67b-8e08-4562-9082-beff0d2cf060",
   "metadata": {},
   "outputs": [
    {
     "name": "stdout",
     "output_type": "stream",
     "text": [
      "-1\n"
     ]
    },
    {
     "data": {
      "text/plain": [
       "13"
      ]
     },
     "execution_count": 25,
     "metadata": {},
     "output_type": "execute_result"
    }
   ],
   "source": [
    "print(myName.find(\"s\"))\n",
    "myFullName.find(myFamilly)"
   ]
  },
  {
   "cell_type": "markdown",
   "id": "17b4059c-3726-4318-ac61-6bff686dc597",
   "metadata": {},
   "source": [
    "# Session 6"
   ]
  },
  {
   "cell_type": "markdown",
   "id": "84f4ef98-4b3e-4498-b39c-08acd8ca2e22",
   "metadata": {},
   "source": [
    "#### how to find place by character"
   ]
  },
  {
   "cell_type": "code",
   "execution_count": 26,
   "id": "94618c26-8e89-46cb-ae82-4684f8fadcaa",
   "metadata": {},
   "outputs": [
    {
     "data": {
      "text/plain": [
       "5"
      ]
     },
     "execution_count": 26,
     "metadata": {},
     "output_type": "execute_result"
    }
   ],
   "source": [
    "myName.find ('ma')"
   ]
  },
  {
   "cell_type": "code",
   "execution_count": 27,
   "id": "dfcaa55a-91da-4d8f-be18-be64715c3834",
   "metadata": {},
   "outputs": [
    {
     "data": {
      "text/plain": [
       "3"
      ]
     },
     "execution_count": 27,
     "metadata": {},
     "output_type": "execute_result"
    }
   ],
   "source": [
    "_Str = \"RealMadrid\"\n",
    "_Str.find (\"l\")"
   ]
  },
  {
   "cell_type": "code",
   "execution_count": 28,
   "id": "c242b7d6-f43a-425c-8671-2eaa940961d8",
   "metadata": {},
   "outputs": [
    {
     "data": {
      "text/plain": [
       "'M'"
      ]
     },
     "execution_count": 28,
     "metadata": {},
     "output_type": "execute_result"
    }
   ],
   "source": [
    "myFullName[0]"
   ]
  },
  {
   "cell_type": "code",
   "execution_count": 29,
   "id": "91f5186f-e41e-4bfd-a7e8-847142118ef9",
   "metadata": {},
   "outputs": [
    {
     "data": {
      "text/plain": [
       "'MohammadFazelKazhalBasiri'"
      ]
     },
     "execution_count": 29,
     "metadata": {},
     "output_type": "execute_result"
    }
   ],
   "source": [
    "myFullName = myFullName.replace(myFamilly, 'Kazhal' + myFamilly)\n",
    "myFullName"
   ]
  },
  {
   "cell_type": "code",
   "execution_count": 30,
   "id": "4c29ecc0-bfc0-4f72-b237-8019db2362a3",
   "metadata": {},
   "outputs": [
    {
     "data": {
      "text/plain": [
       "'MohammadFazelBasiri'"
      ]
     },
     "execution_count": 30,
     "metadata": {},
     "output_type": "execute_result"
    }
   ],
   "source": [
    "myName = \"MohammadFazel\"\n",
    "myFamilly = \"Basiri\"\n",
    "myFriendsName = \"Saeed\"\n",
    "myFullName = myName + myFamilly\n",
    "myFullName"
   ]
  },
  {
   "cell_type": "code",
   "execution_count": 31,
   "id": "2063e255-fb76-4f3e-a340-f51717f26812",
   "metadata": {},
   "outputs": [
    {
     "data": {
      "text/plain": [
       "'SaeedBasiri'"
      ]
     },
     "execution_count": 31,
     "metadata": {},
     "output_type": "execute_result"
    }
   ],
   "source": [
    "myChangedFullName = myFullName.replace (myName, myFriendsName)\n",
    "myChangedFullName"
   ]
  },
  {
   "cell_type": "code",
   "execution_count": 32,
   "id": "46db3893-0353-47d6-aae3-027d91da77d2",
   "metadata": {},
   "outputs": [
    {
     "data": {
      "text/plain": [
       "'MohammadFazelBasiriMohammadFazelBasiri'"
      ]
     },
     "execution_count": 32,
     "metadata": {},
     "output_type": "execute_result"
    }
   ],
   "source": [
    "myFullName * 2"
   ]
  },
  {
   "cell_type": "code",
   "execution_count": 33,
   "id": "ec8b82d5-747d-45e9-8640-dd28caaa7d34",
   "metadata": {},
   "outputs": [
    {
     "data": {
      "text/plain": [
       "'MOHAMMADFAZEL'"
      ]
     },
     "execution_count": 33,
     "metadata": {},
     "output_type": "execute_result"
    }
   ],
   "source": [
    "myName.upper()"
   ]
  },
  {
   "cell_type": "code",
   "execution_count": 34,
   "id": "fa5db530-2ed4-4cf4-946d-43ec1aee3340",
   "metadata": {},
   "outputs": [
    {
     "data": {
      "text/plain": [
       "True"
      ]
     },
     "execution_count": 34,
     "metadata": {},
     "output_type": "execute_result"
    }
   ],
   "source": [
    "myName.isalpha() #isalpha, isdigit, etc"
   ]
  },
  {
   "cell_type": "code",
   "execution_count": 35,
   "id": "df9d34e4-d86c-44b8-b5cc-c3da03a871cd",
   "metadata": {},
   "outputs": [],
   "source": [
    "myNationalCode = \"2499\""
   ]
  },
  {
   "cell_type": "code",
   "execution_count": 36,
   "id": "42aaf40b-a687-4ecc-a2e8-1d4edd718b32",
   "metadata": {},
   "outputs": [
    {
     "data": {
      "text/plain": [
       "False"
      ]
     },
     "execution_count": 36,
     "metadata": {},
     "output_type": "execute_result"
    }
   ],
   "source": [
    "myNationalCode.isalpha()"
   ]
  },
  {
   "cell_type": "code",
   "execution_count": 37,
   "id": "6962a029-caf2-4da2-92c0-842379ddd5ee",
   "metadata": {},
   "outputs": [],
   "source": [
    "myAdress = \"Sadaf24\""
   ]
  },
  {
   "cell_type": "code",
   "execution_count": 38,
   "id": "5553e512-5f4f-4957-ba53-311121e589dc",
   "metadata": {},
   "outputs": [
    {
     "data": {
      "text/plain": [
       "False"
      ]
     },
     "execution_count": 38,
     "metadata": {},
     "output_type": "execute_result"
    }
   ],
   "source": [
    "myAdress.isalpha()"
   ]
  },
  {
   "cell_type": "code",
   "execution_count": 39,
   "id": "5cb2841a-0af7-4582-9121-33b17480144a",
   "metadata": {},
   "outputs": [],
   "source": [
    "myTeacherName = \"Sir Dr. Hoseinpour\""
   ]
  },
  {
   "cell_type": "code",
   "execution_count": 40,
   "id": "b1daccd4-3be2-4a88-95e3-303f844996f0",
   "metadata": {},
   "outputs": [],
   "source": [
    "splitedTeacherName = myTeacherName.split(' ')"
   ]
  },
  {
   "cell_type": "code",
   "execution_count": 41,
   "id": "27f22500-0774-4d0b-b26c-42a5b2429061",
   "metadata": {},
   "outputs": [
    {
     "name": "stdout",
     "output_type": "stream",
     "text": [
      "['Sir', 'Dr.', 'Hoseinpour']\n"
     ]
    }
   ],
   "source": [
    "print(splitedTeacherName)"
   ]
  },
  {
   "cell_type": "code",
   "execution_count": 42,
   "id": "fabd9609-0168-4abd-9982-60619d66cd03",
   "metadata": {},
   "outputs": [
    {
     "name": "stdout",
     "output_type": "stream",
     "text": [
      "['Sir', 'Dr. Hoseinpour']\n"
     ]
    }
   ],
   "source": [
    "myCammaTeacherName = \"Sir,Dr. Hoseinpour\"\n",
    "splitedCammaTeacherName = myCammaTeacherName.split (',')\n",
    "print(splitedCammaTeacherName)"
   ]
  },
  {
   "cell_type": "code",
   "execution_count": 43,
   "id": "61391b13-8ee2-4365-b12e-eed8d0d4508b",
   "metadata": {},
   "outputs": [
    {
     "name": "stdout",
     "output_type": "stream",
     "text": [
      "['12', '18', '00']\n"
     ]
    }
   ],
   "source": [
    "time = \"12:18:00\"\n",
    "splitedTime = time.split(':')\n",
    "print(splitedTime)"
   ]
  },
  {
   "cell_type": "code",
   "execution_count": 44,
   "id": "06d3d508-e2b8-46a5-92e5-7246744fb0d5",
   "metadata": {},
   "outputs": [
    {
     "data": {
      "text/plain": [
       "['__add__',\n",
       " '__class__',\n",
       " '__contains__',\n",
       " '__delattr__',\n",
       " '__dir__',\n",
       " '__doc__',\n",
       " '__eq__',\n",
       " '__format__',\n",
       " '__ge__',\n",
       " '__getattribute__',\n",
       " '__getitem__',\n",
       " '__getnewargs__',\n",
       " '__getstate__',\n",
       " '__gt__',\n",
       " '__hash__',\n",
       " '__init__',\n",
       " '__init_subclass__',\n",
       " '__iter__',\n",
       " '__le__',\n",
       " '__len__',\n",
       " '__lt__',\n",
       " '__mod__',\n",
       " '__mul__',\n",
       " '__ne__',\n",
       " '__new__',\n",
       " '__reduce__',\n",
       " '__reduce_ex__',\n",
       " '__repr__',\n",
       " '__rmod__',\n",
       " '__rmul__',\n",
       " '__setattr__',\n",
       " '__sizeof__',\n",
       " '__str__',\n",
       " '__subclasshook__',\n",
       " 'capitalize',\n",
       " 'casefold',\n",
       " 'center',\n",
       " 'count',\n",
       " 'encode',\n",
       " 'endswith',\n",
       " 'expandtabs',\n",
       " 'find',\n",
       " 'format',\n",
       " 'format_map',\n",
       " 'index',\n",
       " 'isalnum',\n",
       " 'isalpha',\n",
       " 'isascii',\n",
       " 'isdecimal',\n",
       " 'isdigit',\n",
       " 'isidentifier',\n",
       " 'islower',\n",
       " 'isnumeric',\n",
       " 'isprintable',\n",
       " 'isspace',\n",
       " 'istitle',\n",
       " 'isupper',\n",
       " 'join',\n",
       " 'ljust',\n",
       " 'lower',\n",
       " 'lstrip',\n",
       " 'maketrans',\n",
       " 'partition',\n",
       " 'removeprefix',\n",
       " 'removesuffix',\n",
       " 'replace',\n",
       " 'rfind',\n",
       " 'rindex',\n",
       " 'rjust',\n",
       " 'rpartition',\n",
       " 'rsplit',\n",
       " 'rstrip',\n",
       " 'split',\n",
       " 'splitlines',\n",
       " 'startswith',\n",
       " 'strip',\n",
       " 'swapcase',\n",
       " 'title',\n",
       " 'translate',\n",
       " 'upper',\n",
       " 'zfill']"
      ]
     },
     "execution_count": 44,
     "metadata": {},
     "output_type": "execute_result"
    }
   ],
   "source": [
    "dir(myName)"
   ]
  },
  {
   "cell_type": "code",
   "execution_count": 45,
   "id": "67cdedaa-f4a0-48fd-b703-9f01a63ec57e",
   "metadata": {},
   "outputs": [
    {
     "data": {
      "text/plain": [
       "False"
      ]
     },
     "execution_count": 45,
     "metadata": {},
     "output_type": "execute_result"
    }
   ],
   "source": [
    "myName.isdigit()"
   ]
  },
  {
   "cell_type": "code",
   "execution_count": 46,
   "id": "1fed3c56-0ed7-4828-9b19-8430a791893f",
   "metadata": {},
   "outputs": [
    {
     "name": "stdout",
     "output_type": "stream",
     "text": [
      "Help on built-in function translate:\n",
      "\n",
      "translate(table, /) method of builtins.str instance\n",
      "    Replace each character in the string using the given translation table.\n",
      "    \n",
      "      table\n",
      "        Translation table, which must be a mapping of Unicode ordinals to\n",
      "        Unicode ordinals, strings, or None.\n",
      "    \n",
      "    The table must implement lookup/indexing via __getitem__, for instance a\n",
      "    dictionary or list.  If this operation raises LookupError, the character is\n",
      "    left untouched.  Characters mapped to None are deleted.\n",
      "\n"
     ]
    }
   ],
   "source": [
    "help(myName.translate)"
   ]
  },
  {
   "cell_type": "code",
   "execution_count": 47,
   "id": "177c26a4-16c2-432f-9f7e-a6d58fcf7453",
   "metadata": {},
   "outputs": [
    {
     "name": "stdout",
     "output_type": "stream",
     "text": [
      "A\n",
      "B\tC\n"
     ]
    }
   ],
   "source": [
    "tempString = 'A\\nB\\tC' # \\n is end of line, \\t is tab\n",
    "print(tempString)"
   ]
  },
  {
   "cell_type": "code",
   "execution_count": 48,
   "id": "92dc3451-70d7-4d97-a76d-5b22113a8a21",
   "metadata": {},
   "outputs": [
    {
     "name": "stdout",
     "output_type": "stream",
     "text": [
      "Fazel\n",
      "Saeed\n"
     ]
    }
   ],
   "source": [
    "tS1 = 'Fazel'\n",
    "tS2 = 'Saeed'\n",
    "print(tS1 + \"\\n\" + tS2)"
   ]
  },
  {
   "cell_type": "code",
   "execution_count": 49,
   "id": "c988c7ef-522b-4268-9296-64dcf1619759",
   "metadata": {},
   "outputs": [
    {
     "name": "stdout",
     "output_type": "stream",
     "text": [
      "\"\n"
     ]
    }
   ],
   "source": [
    "print(\"\\\"\")"
   ]
  },
  {
   "cell_type": "code",
   "execution_count": 50,
   "id": "020347a0-ab90-4050-9e45-27be6f10ecd2",
   "metadata": {},
   "outputs": [
    {
     "name": "stdout",
     "output_type": "stream",
     "text": [
      "Saeed goft:\"baaaaa hasaaan AAAA\"\n"
     ]
    }
   ],
   "source": [
    "print(\"Saeed goft:\\\"baaaaa hasaaan AAAA\\\"\")"
   ]
  },
  {
   "cell_type": "code",
   "execution_count": 51,
   "id": "89d4a972-e1d2-4705-abf8-82591099c116",
   "metadata": {},
   "outputs": [
    {
     "name": "stdout",
     "output_type": "stream",
     "text": [
      "A\u0000B\u0000C\n"
     ]
    }
   ],
   "source": [
    "tempString = 'A\\0B\\0C'\n",
    "print(tempString)"
   ]
  },
  {
   "cell_type": "markdown",
   "id": "bf163673-2bcf-463e-8e6e-be121460ecdc",
   "metadata": {},
   "source": [
    "# Wikipedia homework"
   ]
  },
  {
   "cell_type": "code",
   "execution_count": 52,
   "id": "3a3b73d2-1ee8-46ec-b7ee-5bd9c6e25e25",
   "metadata": {},
   "outputs": [],
   "source": [
    "python_Wikip = \"\"\" Python is a high-level, general-purpose programming language. Its design philosophy emphasizes code readability with the use of significant indentation.[32]\n",
    "\n",
    "Python is dynamically typed and garbage-collected. It supports multiple programming paradigms, including structured (particularly procedural), object-oriented and functional programming. It is often described as a \"batteries included\" language due to its comprehensive standard library.[33][34]\n",
    "\n",
    "Guido van Rossum began working on Python in the late 1980s as a successor to the ABC programming language and first released it in 1991 as Python 0.9.0.[35] Python 2.0 was released in 2000. Python 3.0, released in 2008, was a major revision not completely backward-compatible with earlier versions. Python 2.7.18, released in 2020, was the last release of Python 2.[36]\n",
    "\n",
    "Python consistently ranks as one of the most popular programming languages, and has gained widespread use in the machine learning community.[37][38][39][40]\n",
    "\n",
    "History\n",
    "Main article: History of Python\n",
    "\n",
    "The designer of Python, Guido van Rossum, at OSCON 2006\n",
    "Python was invented in the late 1980s[41] by Guido van Rossum at Centrum Wiskunde & Informatica (CWI) in the Netherlands as a successor to the ABC programming language, which was inspired by SETL,[42] capable of exception handling and interfacing with the Amoeba operating system.[12] Its implementation began in December 1989.[43] Van Rossum shouldered sole responsibility for the project, as the lead developer, until 12 July 2018, when he announced his \"permanent vacation\" from his responsibilities as Python's \"benevolent dictator for life\" (BDFL), a title the Python community bestowed upon him to reflect his long-term commitment as the project's chief decision-maker[44] (he has since come out of retirement and is self-titled \"BDFL-emeritus\"). In January 2019, active Python core developers elected a five-member Steering Council to lead the project.[45][46]\n",
    "\n",
    "Python 2.0 was released on 16 October 2000, with many major new features such as list comprehensions, cycle-detecting garbage collection, reference counting, and Unicode support.[47] Python 3.0 was released on 3 December 2008, with many of its major features backported to Python 2.6.x[48] and 2.7.x. Releases of Python 3 include the 2to3 utility, which automates the translation of Python 2 code to Python 3.[49]\n",
    "\n",
    "Python 2.7's end-of-life was initially set for 2015, then postponed to 2020 out of concern that a large body of existing code could not easily be forward-ported to Python 3.[50][51] No further security patches or other improvements will be released for it.[52][53] Currently only 3.9 and later are supported (2023 security issues were fixed in e.g. 3.7.17, the final 3.7.x release[54]). While Python 2.7 and older is officially unsupported, a different unofficial Python implementation, PyPy, continues to support Python 2, i.e. \"2.7.18+\" (plus 3.10), with the plus meaning (at least some) \"backported security updates\".[55]\n",
    "\n",
    "In 2021 (and again twice in 2022, and in September 2024 for Python 3.12.6 down to 3.8.20), security updates were expedited, since all Python versions were insecure (including 2.7[56]) because of security issues leading to possible remote code execution[57] and web-cache poisoning.[58] In 2022, Python 3.10.4 and 3.9.12 were expedited[59] and 3.8.13, because of many security issues.[60] When Python 3.9.13 was released in May 2022, it was announced that the 3.9 series (joining the older series 3.8 and 3.7) would only receive security fixes in the future.[61] On 7 September 2022, four new releases were made due to a potential denial-of-service attack: 3.10.7, 3.9.14, 3.8.14, and 3.7.14.[62][63]\n",
    "\n",
    "Every Python release since 3.5 has added some syntax to the language. 3.10 added the | union type operator[64] and the match and case keywords (for structural pattern matching statements). 3.11 expanded exception handling functionality. Python 3.12 added the new keyword type. Notable changes in 3.11 from 3.10 include increased program execution speed and improved error reporting.[65] Python 3.11 claims to be between 10 and 60% faster than Python 3.10, and Python 3.12 adds another 5% on top of that. It also has improved error messages, and many other changes.\n",
    "\n",
    "Python 3.13 introduces more syntax for types, a new and improved interactive interpreter (REPL), featuring multi-line editing and color support; an incremental garbage collector (producing shorter pauses for collection in programs with a lot of objects, and addition to the improved speed in 3.11 and 3.12), and an experimental just-in-time (JIT) compiler (such features, can/needs to be enabled specifically for the increase in speed),[66] and an experimental free-threaded build mode, which disables the global interpreter lock (GIL), allowing threads to run more concurrently, that latter feature enabled with python3.13t or python3.13t.exe.\n",
    "\n",
    "Python 3.13 introduces some change in behavior, i.e. new \"well-defined semantics\", fixing bugs (plus many removals of deprecated classes, functions and methods, and removed some of the C API and outdated modules): \"The [old] implementation of locals() and frame.f_locals is slow, inconsistent and buggy [and it has] has many corner cases and oddities. Code that works around those may need to be changed. Code that uses locals() for simple templating, or print debugging, will continue to work correctly.\"[67]\n",
    "\n",
    "Since 7 October 2024, Python 3.13 is the latest stable release, and 3.13 and 3.12 are the only versions with active (as opposed to just security) support and Python 3.9 is the oldest supported version of Python (albeit in the 'security support' phase), due to Python 3.8 reaching end-of-life.[68] Starting with 3.13, it and later versions have 2 years of full support (up from one and a half); followed by 3 years of security support (for same total support as before).\n",
    "\n",
    "Some (more) standard library modules and many deprecated classes, functions and methods, will be removed in Python 3.15 or 3.16.[69][70]\n",
    "Python is a multi-paradigm programming language. Object-oriented programming and structured programming are fully supported, and many of their features support functional programming and aspect-oriented programming (including metaprogramming[71] and metaobjects).[72] Many other paradigms are supported via extensions, including design by contract[73][74] and logic programming.[75] Python is known as a glue language,[76] able to work very well with many other languages with ease of access.\n",
    "\n",
    "Python uses dynamic typing and a combination of reference counting and a cycle-detecting garbage collector for memory management.[77] It uses dynamic name resolution (late binding), which binds method and variable names during program execution.\n",
    "\n",
    "Its design offers some support for functional programming in the Lisp tradition. It has filter,mapandreduce functions; list comprehensions, dictionaries, sets, and generator expressions.[78] The standard library has two modules (itertools and functools) that implement functional tools borrowed from Haskell and Standard ML.[79]\n",
    "\n",
    "Its core philosophy is summarized in the Zen of Python (PEP 20), which includes aphorisms such as:[80]\n",
    "\n",
    "Beautiful is better than ugly.\n",
    "Explicit is better than implicit.\n",
    "Simple is better than complex.\n",
    "Complex is better than complicated.\n",
    "Readability counts.\n",
    "However, Python features regularly violate these principles and have received criticism for adding unnecessary language bloat.[81] Responses to these criticisms are that the Zen of Python is a guideline rather than a rule.[82] The addition of some new features had been so controversial that Guido van Rossum resigned as Benevolent Dictator for Life following vitriol over the addition of the assignment expression operator in Python 3.8.[83][84]\n",
    "\n",
    "Nevertheless, rather than building all of its functionality into its core, Python was designed to be highly extensible via modules. This compact modularity has made it particularly popular as a means of adding programmable interfaces to existing applications. Van Rossum's vision of a small core language with a large standard library and easily extensible interpreter stemmed from his frustrations with ABC, which espoused the opposite approach.[41]\n",
    "\n",
    "Python claims to strive for a simpler, less-cluttered syntax and grammar while giving developers a choice in their coding methodology. In contrast to Perl's \"there is more than one way to do it\" motto, Python embraces a \"there should be one—and preferably only one—obvious way to do it.\" philosophy.[80] In practice, however, Python provides many ways to achieve the same task. There are, for example, at least three ways to format a string literal, with no certainty as to which one a programmer should use.[85] Alex Martelli, a Fellow at the Python Software Foundation and Python book author, wrote: \"To describe something as 'clever' is not considered a compliment in the Python culture.\"[86]\n",
    "\n",
    "Python's developers usually strive to avoid premature optimization and reject patches to non-critical parts of the CPython reference implementation that would offer marginal increases in speed at the cost of clarity.[87] Execution speed can be improved by moving speed-critical functions to extension modules written in languages such as C, or by using a just-in-time compiler like PyPy. It is also possible to cross-compile to other languages, but it either doesn't provide the full speed-up that might be expected, since Python is a very dynamic language, or a restricted subset of Python is compiled, and possibly semantics are slightly changed.[88]\n",
    "\n",
    "Python's developers aim for it to be fun to use. This is reflected in its name—a tribute to the British comedy group Monty Python[89]—and in occasionally playful approaches to tutorials and reference materials, such as the use of the terms \"spam\" and \"eggs\" (a reference to a Monty Python sketch) in examples, instead of the often-used \"foo\" and \"bar\".[90][91] A common neologism in the Python community is pythonic, which has a wide range of meanings related to program style. \"Pythonic\" code may use Python idioms well, be natural or show fluency in the language, or conform with Python's minimalist philosophy and emphasis on readability. Code that is difficult to understand or reads like a rough transcription from another programming language is called unpythonic.[92]\n",
    "Python is meant to be an easily readable language. Its formatting is visually uncluttered and often uses English keywords where other languages use punctuation. Unlike many other languages, it does not use curly brackets to delimit blocks, and semicolons after statements are allowed but rarely used. It has fewer syntactic exceptions and special cases than C or Pascal.[93]\n",
    "\n",
    "Indentation\n",
    "Main article: Python syntax and semantics § Indentation\n",
    "Python uses whitespace indentation, rather than curly brackets or keywords, to delimit blocks. An increase in indentation comes after certain statements; a decrease in indentation signifies the end of the current block.[94] Thus, the program's visual structure accurately represents its semantic structure.[95] This feature is sometimes termed the off-side rule. Some other languages use indentation this way; but in most, indentation has no semantic meaning. The recommended indent size is four spaces.[96]\n",
    "\n",
    "Statements and control flow\n",
    "Python's statements include:\n",
    "\n",
    "The assignment statement, using a single equals sign =\n",
    "The if statement, which conditionally executes a block of code, along with else and elif (a contraction of else-if)\n",
    "The for statement, which iterates over an iterable object, capturing each element to a local variable for use by the attached block\n",
    "The while statement, which executes a block of code as long as its condition is true\n",
    "The try statement, which allows exceptions raised in its attached code block to be caught and handled by except clauses (or new syntax except* in Python 3.11 for exception groups[97]); it also ensures that clean-up code in a finally block is always run regardless of how the block exits\n",
    "The raise statement, used to raise a specified exception or re-raise a caught exception\n",
    "The class statement, which executes a block of code and attaches its local namespace to a class, for use in object-oriented programming\n",
    "The def statement, which defines a function or method\n",
    "The with statement, which encloses a code block within a context manager (for example, acquiring a lock before it is run, then releasing the lock; or opening and closing a file), allowing resource-acquisition-is-initialization (RAII)-like behavior and replacing a common try/finally idiom[98]\n",
    "The break statement, which exits a loop\n",
    "The continue statement, which skips the rest of the current iteration and continues with the next\n",
    "The del statement, which removes a variable—deleting the reference from the name to the value, and producing an error if the variable is referred to before it is redefined\n",
    "The pass statement, serving as a NOP, syntactically needed to create an empty code block\n",
    "The assert statement, used in debugging to check for conditions that should apply\n",
    "The yield statement, which returns a value from a generator function (and also an operator); used to implement coroutines\n",
    "The return statement, used to return a value from a function\n",
    "The import and from statements, used to import modules whose functions or variables can be used in the current program\n",
    "The match and case statements, an analog of the switch statement construct, that compares an expression against one or more cases as a control-of-flow measure.\n",
    "The assignment statement (=) binds a name as a reference to a separate, dynamically allocated object. Variables may subsequently be rebound at any time to any object. In Python, a variable name is a generic reference holder without a fixed data type; however, it always refers to some object with a type. This is called dynamic typing—in contrast to statically-typed languages, where each variable may contain only a value of a certain type.\n",
    "\n",
    "Python does not support tail call optimization or first-class continuations, and, according to Van Rossum, it never will.[99][100] However, better support for coroutine-like functionality is provided by extending Python's generators.[101] Before 2.5, generators were lazy iterators; data was passed unidirectionally out of the generator. From Python 2.5 on, it is possible to pass data back into a generator function; and from version 3.3, it can be passed through multiple stack levels.[102]\n",
    "\n",
    "Expressions\n",
    "Python's expressions include:\n",
    "\n",
    "The +, -, and * operators for mathematical addition, subtraction, and multiplication are similar to other languages, but the behavior of division differs. There are two types of divisions in Python: floor division (or integer division) // and floating-point/division.[103] Python uses the ** operator for exponentiation.\n",
    "Python uses the + operator for string concatenation. Python uses the * operator for duplicating a string a specified number of times.\n",
    "The @ infix operator. It is intended to be used by libraries such as NumPy for matrix multiplication.[104][105]\n",
    "The syntax :=, called the \"walrus operator\", was introduced in Python 3.8. It assigns values to variables as part of a larger expression.[106]\n",
    "In Python, == compares by value. Python's is operator may be used to compare object identities (comparison by reference), and comparisons may be chained—for example, a <= b <= c.\n",
    "Python uses and, or, and not as Boolean operators.\n",
    "Python has a type of expression named a list comprehension, and a more general expression named a generator expression.[78]\n",
    "Anonymous functions are implemented using lambda expressions; however, there may be only one expression in each body.\n",
    "Conditional expressions are written as x if c else y[107] (different in order of operands from the c ? x : y operator common to many other languages).\n",
    "Python makes a distinction between lists and tuples. Lists are written as [1, 2, 3], are mutable, and cannot be used as the keys of dictionaries (dictionary keys must be immutable in Python). Tuples, written as (1, 2, 3), are immutable and thus can be used as keys of dictionaries, provided all of the tuple's elements are immutable. The + operator can be used to concatenate two tuples, which does not directly modify their contents, but produces a new tuple containing the elements of both. Thus, given the variable t initially equal to (1, 2, 3), executing t = t + (4, 5) first evaluates t + (4, 5), which yields (1, 2, 3, 4, 5), which is then assigned back to t—thereby effectively \"modifying the contents\" of t while conforming to the immutable nature of tuple objects. Parentheses are optional for tuples in unambiguous contexts.[108]\n",
    "Python features sequence unpacking where multiple expressions, each evaluating to anything that can be assigned (to a variable, writable property, etc.) are associated in an identical manner to that forming tuple literals—and, as a whole, are put on the left-hand side of the equal sign in an assignment statement. The statement expects an iterable object on the right-hand side of the equal sign that produces the same number of values as the provided writable expressions; when iterated through them, it assigns each of the produced values to the corresponding expression on the left.[109]\n",
    "Python has a \"string format\" operator % that functions analogously to printf format strings in C—e.g. \"spam=%s eggs=%d\" % (\"blah\", 2) evaluates to \"spam=blah eggs=2\". In Python 2.6+ and 3+, this was supplemented by the format() method of the str class, e.g. \"spam={0} eggs={1}\".format(\"blah\", 2). Python 3.6 added \"f-strings\": spam = \"blah\"; eggs = 2; f'spam={spam} eggs={eggs}'.[110]\n",
    "Strings in Python can be concatenated by \"adding\" them (with the same operator as for adding integers and floats), e.g. \"spam\" + \"eggs\" returns \"spameggs\". If strings contain numbers, they are added as strings rather than integers, e.g. \"2\" + \"2\" returns \"22\".\n",
    "Python has various string literals:\n",
    "Delimited by single or double quotes; unlike in Unix shells, Perl, and Perl-influenced languages, single and double quotes work the same. Both use the backslash (\\) as an escape character. String interpolation became available in Python 3.6 as \"formatted string literals\".[110]\n",
    "Triple-quoted (beginning and ending with three single or double quotes), which may span multiple lines and function like here documents in shells, Perl, and Ruby.\n",
    "Raw string varieties, denoted by prefixing the string literal with r. Escape sequences are not interpreted; hence raw strings are useful where literal backslashes are common, such as regular expressions and Windows-style paths. (Compare \"@-quoting\" in C#.)\n",
    "Python has array index and array slicing expressions in lists, denoted as a[key], a[start:stop] or a[start:stop:step]. Indexes are zero-based, and negative indexes are relative to the end. Slices take elements from the start index up to, but not including, the stop index. The third slice parameter, called step or stride, allows elements to be skipped and reversed. Slice indexes may be omitted—for example, a[:] returns a copy of the entire list. Each element of a slice is a shallow copy.\n",
    "In Python, a distinction between expressions and statements is rigidly enforced, in contrast to languages such as Common Lisp, Scheme, or Ruby. This leads to duplicating some functionality. For example:\n",
    "\n",
    "List comprehensions vs. for-loops\n",
    "Conditional expressions vs. if blocks\n",
    "The eval() vs. exec() built-in functions (in Python 2, exec is a statement); the former is for expressions, the latter is for statements\n",
    "Statements cannot be a part of an expression—so list and other comprehensions or lambda expressions, all being expressions, cannot contain statements. A particular case is that an assignment statement such as a = 1 cannot form part of the conditional expression of a conditional statement.\n",
    "\n",
    "Methods\n",
    "Methods on objects are functions attached to the object's class; the syntax instance.method(argument) is, for normal methods and functions, syntactic sugar for Class.method(instance, argument). Python methods have an explicit self parameter to access instance data, in contrast to the implicit self (or this) in some other object-oriented programming languages (e.g., C++, Java, Objective-C, Ruby).[111] Python also provides methods, often called dunder methods (due to their names beginning and ending with double-underscores), to allow user-defined classes to modify how they are handled by native operations including length, comparison, in arithmetic operations and type conversion.[112]\n",
    "\n",
    "Typing\n",
    "Python uses duck typing and has typed objects but untyped variable names. Type constraints are not checked at compile time; rather, operations on an object may fail, signifying that it is not of a suitable type. Despite being dynamically typed, Python is strongly typed, forbidding operations that are not well-defined (for example, adding a number to a string) rather than silently attempting to make sense of them.\n",
    "\n",
    "Python allows programmers to define their own types using classes, most often used for object-oriented programming. New instances of classes are constructed by calling the class (for example, SpamClass() or EggsClass()), and the classes are instances of the metaclass type (itself an instance of itself), allowing metaprogramming and reflection.\n",
    "\n",
    "Before version 3.0, Python had two kinds of classes (both using the same syntax): old-style and new-style;[113] current Python versions only support the semantics of the new style.\n",
    "\n",
    "Python supports optional type annotations.[4][114] These annotations are not enforced by the language, but may be used by external tools such as mypy to catch errors.[115][116] Mypy also supports a Python compiler called mypyc, which leverages type annotations for optimization.[117]\n",
    "\n",
    "Summary of Python 3's built-in types\n",
    "Arithmetic operations\n",
    "Python has the usual symbols for arithmetic operators (+, -, *, /), the floor division operator // and the modulo operation % (where the remainder can be negative, e.g. 4 % -3 == -2). It also has ** for exponentiation, e.g. 5**3 == 125 and 9**0.5 == 3.0, and a matrix‑multiplication operator @ .[121] These operators work like in traditional math; with the same precedence rules, the operators infix (+ and - can also be unary to represent positive and negative numbers respectively).\n",
    "\n",
    "The division between integers produces floating-point results. The behavior of division has changed significantly over time:[122]\n",
    "\n",
    "Current Python (i.e. since 3.0) changed / to always be floating-point division, e.g. 5/2 == 2.5.\n",
    "The floor division // operator was introduced. So 7//3 == 2, -7//3 == -3, 7.5//3 == 2.0 and -7.5//3 == -3.0. Adding from __future__ import division causes a module used in Python 2.7 to use Python 3.0 rules for division (see above).\n",
    "In Python terms, / is true division (or simply division), and // is floor division. / before version 3.0 is classic division.[122]\n",
    "\n",
    "Rounding towards negative infinity, though different from most languages, adds consistency. For instance, it means that the equation (a + b)//b == a//b + 1 is always true. It also means that the equation b*(a//b) + a%b == a is valid for both positive and negative values of a. However, maintaining the validity of this equation means that while the result of a%b is, as expected, in the half-open interval [0, b), where b is a positive integer, it has to lie in the interval (b, 0] when b is negative.[123]\n",
    "\n",
    "Python provides a round function for rounding a float to the nearest integer. For tie-breaking, Python 3 uses round to even: round(1.5) and round(2.5) both produce 2.[124] Versions before 3 used round-away-from-zero: round(0.5) is 1.0, round(-0.5) is −1.0.[125]\n",
    "\n",
    "Python allows Boolean expressions with multiple equality relations in a manner that is consistent with general use in mathematics. For example, the expression a < b < c tests whether a is less than b and b is less than c.[126] C-derived languages interpret this expression differently: in C, the expression would first evaluate a < b, resulting in 0 or 1, and that result would then be compared with c.[127]\n",
    "\n",
    "Python uses arbitrary-precision arithmetic for all integer operations. The Decimal type/class in the decimal module provides decimal floating-point numbers to a pre-defined arbitrary precision and several rounding modes.[128] The Fraction class in the fractions module provides arbitrary precision for rational numbers.[129]\n",
    "\n",
    "Due to Python's extensive mathematics library, and the third-party library NumPy that further extends the native capabilities, it is frequently used as a scientific scripting language to aid in problems such as numerical data processing and manipulation.[130][131]\n",
    "Python's large standard library[132] provides tools suited to many tasks and is commonly cited as one of its greatest strengths. For Internet-facing applications, many standard formats and protocols such as MIME and HTTP are supported. It includes modules for creating graphical user interfaces, connecting to relational databases, generating pseudorandom numbers, arithmetic with arbitrary-precision decimals,[128] manipulating regular expressions, and unit testing.\n",
    "\n",
    "Some parts of the standard library are covered by specifications—for example, the Web Server Gateway Interface (WSGI) implementation wsgiref follows PEP 333[133]—but most are specified by their code, internal documentation, and test suites. However, because most of the standard library is cross-platform Python code, only a few modules need altering or rewriting for variant implementations.\n",
    "\n",
    "As of 17 March 2024, the Python Package Index (PyPI), the official repository for third-party Python software, contains over 523,000[134] packages with a wide range of functionality, including:\n",
    "\n",
    "Automation\n",
    "Data analytics\n",
    "Databases\n",
    "Documentation\n",
    "Graphical user interfaces\n",
    "Image processing\n",
    "Machine learning\n",
    "Mobile apps\n",
    "Multimedia\n",
    "Computer networking\n",
    "Scientific computing\n",
    "System administration\n",
    "Test frameworks\n",
    "Text processing\n",
    "Web frameworks\n",
    "Web scraping\n",
    "Development environments\n",
    "See also: Comparison of integrated development environments § Python\n",
    "Most Python implementations (including CPython) include a read–eval–print loop (REPL), permitting them to function as a command line interpreter for which users enter statements sequentially and receive results immediately.\n",
    "\n",
    "Python also comes with an Integrated development environment (IDE) called IDLE, which is more beginner-oriented.\n",
    "\n",
    "Other shells, including IDLE and IPython, add further abilities such as improved auto-completion, session state retention, and syntax highlighting.\n",
    "\n",
    "As well as standard desktop integrated development environments including PyCharm, IntelliJ Idea, Visual Studio Code etc, there are web browser-based IDEs, including SageMath, for developing science- and math-related programs; PythonAnywhere, a browser-based IDE and hosting environment; and Canopy IDE, a commercial IDE emphasizing scientific computing.[135]\n",
    "\n",
    "Implementations\n",
    "See also: List of Python software § Python implementations\n",
    "Reference implementation\n",
    "CPython is the reference implementation of Python. It is written in C, meeting the C89 standard (Python 3.11 uses C11[136]) with several select C99 features. CPython includes its own C extensions, but third-party extensions are not limited to older C versions—e.g. they can be implemented with C11 or C++.[137][138] CPython compiles Python programs into an intermediate bytecode[139] which is then executed by its virtual machine.[140] CPython is distributed with a large standard library written in a mixture of C and native Python, and is available for many platforms, including Windows (starting with Python 3.9, the Python installer deliberately fails to install on Windows 7 and 8;[141][142] Windows XP was supported until Python 3.5) and most modern Unix-like systems, including macOS (and Apple M1 Macs, since Python 3.9.1, with experimental installer), with unofficial support for VMS.[143] Platform portability was one of its earliest priorities.[144] (During Python 1 and 2 development, even OS/2 and Solaris were supported,[145] but support has since been dropped for many platforms.)\n",
    "\n",
    "All current Python versions (i.e. since 3.7) only support operating systems with multi-threading support.\n",
    "\n",
    "Other implementations\n",
    "All alternative implementations have at least slightly different semantics (e.g. may have unordered dictionaries, unlike all current Python versions), e.g. with the larger Python ecosystem, such as with supporting the C Python API of with PyPy:\n",
    "\n",
    "PyPy is a fast, compliant interpreter of Python 2.7 and 3.10.[146][147] Its just-in-time compiler often brings a significant speed improvement over CPython, but some libraries written in C cannot be used with it.[148] It has e.g. RISC-V support.\n",
    "Codon is a language with an ahead-of-time (AOT) compiler, that (AOT) compiles a statically-typed Python-like language with \"syntax and semantics are nearly identical to Python's, there are some notable differences\"[149] e.g. it uses 64-bit machine integers, for speed, not arbitrary like Python, and it claims speedups over CPython are usually on the order of 10–100x. It compiles to machine code (via LLVM) and supports native multithreading.[150] Codon can also compile to Python extension modules that can be imported and used from Python.\n",
    "Stackless Python is a significant fork of CPython that implements microthreads; it does not use the call stack in the same way, thus allowing massively concurrent programs. PyPy also has a stackless version.[151]\n",
    "MicroPython and CircuitPython are Python 3 variants optimized for microcontrollers, including Lego Mindstorms EV3.[152]\n",
    "Pyston is a variant of the Python runtime that uses just-in-time compilation to speed up the execution of Python programs.[153]\n",
    "Cinder is a performance-oriented fork of CPython 3.8 that contains a number of optimizations, including bytecode inline caching, eager evaluation of coroutines, a method-at-a-time JIT, and an experimental bytecode compiler.[154]\n",
    "Snek[155][156][157] Embedded Computing Language (compatible with e.g. 8-bit AVR microcontrollers such as ATmega 328P-based Arduino, as well as larger ones compatible with MicroPython) \"is Python-inspired, but it is not Python. It is possible to write Snek programs that run under a full Python system, but most Python programs will not run under Snek.\"[158] It is an imperative language not including OOP / classes, unlike Python, and simplifying to one number type with 32-bit single-precision (similar to JavaScript, except smaller).\n",
    "No longer supported implementations\n",
    "Other just-in-time Python compilers have been developed, but are now unsupported:\n",
    "\n",
    "Google began a project named Unladen Swallow in 2009, with the aim of speeding up the Python interpreter five-fold by using the LLVM, and of improving its multithreading ability to scale to thousands of cores,[159] while ordinary implementations suffer from the global interpreter lock.\n",
    "Psyco is a discontinued just-in-time specializing compiler that integrates with CPython and transforms bytecode to machine code at runtime. The emitted code is specialized for certain data types and is faster than the standard Python code. Psyco does not support Python 2.7 or later.\n",
    "PyS60 was a Python 2 interpreter for Series 60 mobile phones released by Nokia in 2005. It implemented many of the modules from the standard library and some additional modules for integrating with the Symbian operating system. The Nokia N900 also supports Python with GTK widget libraries, enabling programs to be written and run on the target device.[160]\n",
    "Cross-compilers to other languages\n",
    "There are several compilers/transpilers to high-level object languages, with either unrestricted Python, a restricted subset of Python, or a language similar to Python as the source language:\n",
    "\n",
    "Brython,[161] Transcrypt[162][163] and Pyjs (latest release in 2012) compile Python to JavaScript.\n",
    "Cython compiles (a superset of) Python to C. The resulting code is also usable with Python via direct C-level API calls into the Python interpreter.\n",
    "PyJL compiles/transpiles a subset of Python to \"human-readable, maintainable, and high-performance Julia source code\".[88] Despite claiming high performance, no tool can claim to do that for arbitrary Python code; i.e. it's known not possible to compile to a faster language or machine code. Unless semantics of Python are changed, but in many cases speedup is possible with few or no changes in the Python code. The faster Julia source code can then be used from Python, or compiled to machine code, and based that way.\n",
    "Nuitka compiles Python into C.[164] It works with Python 3.4 to 3.12 (and 2.6 and 2.7), for Python's main supported platforms (and Windows 7 or even Windows XP) and for Android. It claims complete support for Python 3.10, some support for 3.11 and 3.12 and experimental support for Python 3.13. It supports macOS including Apple Silicon-based. It's a free compiler, though it also has commercial add-ons (e.g. for hiding source code).\n",
    "Numba is used from Python, as a tool (enabled by adding a decorator to relevant Python code), a JIT compiler that translates a subset of Python and NumPy code into fast machine code.\n",
    "Pythran compiles a subset of Python 3 to C++ (C++11).[165]\n",
    "RPython can be compiled to C, and is used to build the PyPy interpreter of Python.\n",
    "The Python → 11l → C++ transpiler[166] compiles a subset of Python 3 to C++ (C++17).\n",
    "Specialized:\n",
    "\n",
    "MyHDL is a Python-based hardware description language (HDL), that converts MyHDL code to Verilog or VHDL code.\n",
    "Older projects (or not to be used with Python 3.x and latest syntax):\n",
    "\n",
    "Google's Grumpy (latest release in 2017) transpiles Python 2 to Go.[167][168][169]\n",
    "IronPython allows running Python 2.7 programs (and an alpha, released in 2021, is also available for \"Python 3.4, although features and behaviors from later versions may be included\"[170]) on the .NET Common Language Runtime.[171]\n",
    "Jython compiles Python 2.7 to Java bytecode, allowing the use of the Java libraries from a Python program.[172]\n",
    "Pyrex (latest release in 2010) and Shed Skin (latest release in 2013) compile to C and C++ respectively.\n",
    "Performance\n",
    "Performance comparison of various Python implementations on a non-numerical (combinatorial) workload was presented at EuroSciPy '13.[173] Python's performance compared to other programming languages is also benchmarked by The Computer Language Benchmarks Game.[174]\n",
    "\n",
    "Development\n",
    "Python's development is conducted largely through the Python Enhancement Proposal (PEP) process, the primary mechanism for proposing major new features, collecting community input on issues, and documenting Python design decisions.[175] Python coding style is covered in PEP 8.[176] Outstanding PEPs are reviewed and commented on by the Python community and the steering council.[175]\n",
    "\n",
    "Enhancement of the language corresponds with the development of the CPython reference implementation. The mailing list python-dev is the primary forum for the language's development. Specific issues were originally discussed in the Roundup bug tracker hosted at by the foundation.[177] In 2022, all issues and discussions were migrated to GitHub.[178] Development originally took place on a self-hosted source-code repository running Mercurial, until Python moved to GitHub in January 2017.[179]\n",
    "\n",
    "CPython's public releases come in three types, distinguished by which part of the version number is incremented:\n",
    "\n",
    "Backward-incompatible versions, where code is expected to break and needs to be manually ported. The first part of the version number is incremented. These releases happen infrequently—version 3.0 was released 8 years after 2.0. According to Guido van Rossum, a version 4.0 is very unlikely to ever happen.[180]\n",
    "Major or \"feature\" releases are largely compatible with the previous version but introduce new features. The second part of the version number is incremented. Starting with Python 3.9, these releases are expected to happen annually.[181][182] Each major version is supported by bug fixes for several years after its release.[183]\n",
    "Bugfix releases,[184] which introduce no new features, occur about every 3 months and are made when a sufficient number of bugs have been fixed upstream since the last release. Security vulnerabilities are also patched in these releases. The third and final part of the version number is incremented.[184]\n",
    "Many alpha, beta, and release-candidates are also released as previews and for testing before final releases. Although there is a rough schedule for each release, they are often delayed if the code is not ready. Python's development team monitors the state of the code by running the large unit test suite during development.[185]\n",
    "\n",
    "The major academic conference on Python is PyCon. There are also special Python mentoring programs, such as PyLadies.\n",
    "\n",
    "Python 3.12 removed wstr meaning Python extensions[186] need to be modified,[187] and 3.10 added pattern matching to the language.[188]\n",
    "\n",
    "Python 3.12 dropped some outdated modules, and more will be dropped in the future, deprecated as of 3.13; already deprecated array 'u' format code will emit DeprecationWarning since 3.13 and will be removed in Python 3.16. The 'w' format code should be used instead. Part of ctypes is also deprecated and http.server.CGIHTTPRequestHandler will emit a DeprecationWarning, and will be removed in 3.15. Using that code already has a high potential for both security and functionality bugs. Parts of the typing module are deprecated, e.g. creating a typing.NamedTuple class using keyword arguments to denote the fields and such (and more) will be disallowed in Python 3.15.\n",
    "\n",
    "API documentation generators\n",
    "Tools that can generate documentation for Python API include pydoc (available as part of the standard library), Sphinx, Pdoc and its forks, Doxygen and Graphviz, among others.[189]\n",
    "\n",
    "Naming\n",
    "Python's name is derived from the British comedy group Monty Python, whom Python creator Guido van Rossum enjoyed while developing the language. Monty Python references appear frequently in Python code and culture;[190] for example, the metasyntactic variables often used in Python literature are spam and eggs instead of the traditional foo and bar.[190][191] The official Python documentation also contains various references to Monty Python routines.[192][193] Users of Python are sometimes referred to as \"Pythonistas\".[194]\n",
    "\n",
    "The prefix Py- is used to show that something is related to Python. Examples of the use of this prefix in names of Python applications or libraries include Pygame, a binding of Simple DirectMedia Layer to Python (commonly used to create games); PyQt and PyGTK, which bind Qt and GTK to Python respectively; and PyPy, a Python implementation originally written in Python.\n",
    "\n",
    "Popularity\n",
    "Since 2003, Python has consistently ranked in the top ten most popular programming languages in the TIOBE Programming Community Index where as of December 2022 it was the most popular language (ahead of C, C++, and Java).[39] It was selected as Programming Language of the Year (for \"the highest rise in ratings in a year\") in 2007, 2010, 2018, and 2020 (the only language to have done so four times as of 2020[195]).\n",
    "\n",
    "Large organizations that use Python include Wikipedia, Google,[196] Yahoo!,[197] CERN,[198] NASA,[199] Facebook,[200] Amazon, Instagram,[201] Spotify,[202] and some smaller entities like Industrial Light & Magic[203] and ITA.[204] The social news networking site Reddit was written mostly in Python.[205] Organizations that partially use Python include Discord[206] and Baidu.[207]\n",
    "\n",
    "Python can serve as a scripting language for web applications, e.g. via mod_wsgi for the Apache webserver.[208] With Web Server Gateway Interface, a standard API has evolved to facilitate these applications. Web frameworks like Django, Pylons, Pyramid, TurboGears, web2py, Tornado, Flask, Bottle, and Zope support developers in the design and maintenance of complex applications. Pyjs and IronPython can be used to develop the client-side of Ajax-based applications. SQLAlchemy can be used as a data mapper to a relational database. Twisted is a framework to program communications between computers, and is used (for example) by Dropbox.\n",
    "\n",
    "Libraries such as NumPy, SciPy and Matplotlib allow the effective use of Python in scientific computing,[209][210] with specialized libraries such as Biopython and Astropy providing domain-specific functionality. SageMath is a computer algebra system with a notebook interface programmable in Python: its library covers many aspects of mathematics, including algebra, combinatorics, numerical mathematics, number theory, and calculus.[211] OpenCV has Python bindings with a rich set of features for computer vision and image processing.[212]\n",
    "\n",
    "Python is commonly used in artificial intelligence projects and machine learning projects with the help of libraries like TensorFlow, Keras, Pytorch, scikit-learn and the Logic language ProbLog.[213][214][215][216][217] As a scripting language with a modular architecture, simple syntax, and rich text processing tools, Python is often used for natural language processing.[218]\n",
    "\n",
    "The combination of Python and Prolog has proved to be particularly useful for AI applications, with Prolog providing knowledge representation and reasoning capabilities. The Janus system, in particular, exploits the similarities between these two languages, in part because of their use of dynamic typing, and the simple recursive nature of their data structures. Typical applications of this combination include natural language processing, visual query answering, geospatial reasoning, and handling of semantic web data.[219][220] The Natlog system, implemented in Python, uses Definite Clause Grammars (DCGs) as prompt generators for text-to-text generators like GPT3 and text-to-image generators like DALL-E or Stable Diffusion.[221]\n",
    "\n",
    "Python can also be used for graphical user interface (GUI) by using libraries like Tkinter.[222][223]\n",
    "\n",
    "Python has been successfully embedded in many software products as a scripting language, including in finite element method software such as Abaqus, 3D parametric modelers like FreeCAD, 3D animation packages such as 3ds Max, Blender, Cinema 4D, Lightwave, Houdini, Maya, modo, MotionBuilder, Softimage, the visual effects compositor Nuke, 2D imaging programs like GIMP,[224] Inkscape, Scribus and Paint Shop Pro,[225] and musical notation programs like scorewriter and capella. GNU Debugger uses Python as a pretty printer to show complex structures such as C++ containers. Esri promotes Python as the best choice for writing scripts in ArcGIS.[226] It has also been used in several video games,[227][228] and has been adopted as first of the three available programming languages in Google App Engine, the other two being Java and Go.[229]\n",
    "\n",
    "Many operating systems include Python as a standard component. It ships with most Linux distributions,[230] AmigaOS 4 (using Python 2.7), FreeBSD (as a package), NetBSD, and OpenBSD (as a package) and can be used from the command line (terminal). Many Linux distributions use installers written in Python: Ubuntu uses the Ubiquity installer, while Red Hat Linux and Fedora Linux use the Anaconda installer. Gentoo Linux uses Python in its package management system, Portage.\n",
    "\n",
    "Python is used extensively in the information security industry, including in exploit development.[231][232]\n",
    "\n",
    "Most of the Sugar software for the One Laptop per Child XO, developed at Sugar Labs as of 2008, is written in Python.[233] The Raspberry Pi single-board computer project has adopted Python as its main user-programming language.\n",
    "\n",
    "LibreOffice includes Python and intends to replace Java with Python. Its Python Scripting Provider is a core feature[234] since Version 4.0 from 7 February 2013.\n",
    "\n",
    "Languages influenced by Python\n",
    "Python's design and philosophy have influenced many other programming languages:\n",
    "\n",
    "Boo uses indentation, a similar syntax, and a similar object model.[235]\n",
    "Cobra uses indentation and a similar syntax, and its Acknowledgements document lists Python first among languages that influenced it.[236]\n",
    "CoffeeScript, a programming language that cross-compiles to JavaScript, has Python-inspired syntax.\n",
    "ECMAScript–JavaScript borrowed iterators and generators from Python.[237]\n",
    "GDScript, a scripting language very similar to Python, built-in to the Godot game engine.[238]\n",
    "Go is designed for the \"speed of working in a dynamic language like Python\"[239] and shares the same syntax for slicing arrays.\n",
    "Groovy was motivated by the desire to bring the Python design philosophy to Java.[240]\n",
    "Julia was designed to be \"as usable for general programming as Python\".[27]\n",
    "Mojo is a non-strict[28][241] superset of Python (e.g. still missing classes, and adding e.g. struct).[242]\n",
    "Nim uses indentation and similar syntax.[243]\n",
    "Ruby's creator, Yukihiro Matsumoto, has said: \"I wanted a scripting language that was more powerful than Perl, and more object-oriented than Python. That's why I decided to design my own language.\"[244]\n",
    "Swift, a programming language developed by Apple, has some Python-inspired syntax.[245]\n",
    "Kotlin blends Python and Java features, minimizing boilerplate code for enhanced developer efficiency.[246]\n",
    "Python's development practices have also been emulated by other languages. For example, the practice of requiring a document describing the rationale for, and issues surrounding, a change to the language (in Python, a PEP) is also used in Tcl,[247] Erlang,[248] and Swift.[249]\n",
    "\"\"\""
   ]
  },
  {
   "cell_type": "code",
   "execution_count": 53,
   "id": "af53f2d4-bccc-4606-a28b-da7012dc1696",
   "metadata": {},
   "outputs": [
    {
     "name": "stdout",
     "output_type": "stream",
     "text": [
      "287\n"
     ]
    }
   ],
   "source": [
    "python_Wikip_List = python_Wikip\n",
    "x = python_Wikip_List.count(\"pyhton\")\n",
    "y = python_Wikip_List.count(\"Python\")\n",
    "print(x+y)"
   ]
  },
  {
   "cell_type": "markdown",
   "id": "3339b4dd-9d64-4d34-b253-166cfcaedbec",
   "metadata": {},
   "source": [
    "# Session 7"
   ]
  },
  {
   "cell_type": "markdown",
   "id": "76911910-b294-4c9d-9a51-dc98e61d5a32",
   "metadata": {},
   "source": [
    "### If & else"
   ]
  },
  {
   "cell_type": "code",
   "execution_count": 54,
   "id": "34897384-a134-4c78-8b49-ff65478a9c1b",
   "metadata": {},
   "outputs": [
    {
     "name": "stdout",
     "output_type": "stream",
     "text": [
      "Salam\n"
     ]
    }
   ],
   "source": [
    "if True:\n",
    "    print(\"Salam\")"
   ]
  },
  {
   "cell_type": "code",
   "execution_count": 55,
   "id": "099739af-228a-4437-89cd-a47b31a41df3",
   "metadata": {},
   "outputs": [],
   "source": [
    "if False:\n",
    "    print(\"Salam\")"
   ]
  },
  {
   "cell_type": "code",
   "execution_count": 56,
   "id": "71b14a2c-b239-4a46-a283-d341c5c9e778",
   "metadata": {},
   "outputs": [
    {
     "name": "stdout",
     "output_type": "stream",
     "text": [
      "Salam\n"
     ]
    }
   ],
   "source": [
    "if 3:\n",
    "    print(\"Salam\")"
   ]
  },
  {
   "cell_type": "code",
   "execution_count": 57,
   "id": "c6271a82-9abd-43ee-81c4-9a587a9ff5f1",
   "metadata": {},
   "outputs": [],
   "source": [
    "if 0:\n",
    "    print(\"Salam\")"
   ]
  },
  {
   "cell_type": "code",
   "execution_count": 58,
   "id": "a684feaf-e60f-4113-9cb1-3529606bc0f6",
   "metadata": {},
   "outputs": [],
   "source": [
    "if \"\":\n",
    "    print(\"Salam\")"
   ]
  },
  {
   "cell_type": "code",
   "execution_count": 59,
   "id": "04b60abc-b8dc-4490-a0cc-a195c16cca4e",
   "metadata": {},
   "outputs": [
    {
     "name": "stdout",
     "output_type": "stream",
     "text": [
      "Salam\n"
     ]
    }
   ],
   "source": [
    "if \"Fazel\":\n",
    "    print(\"Salam\")"
   ]
  },
  {
   "cell_type": "code",
   "execution_count": 60,
   "id": "150db527-9ccf-4f33-ae4a-991edd1369e3",
   "metadata": {},
   "outputs": [
    {
     "name": "stdin",
     "output_type": "stream",
     "text": [
      "Please Enter Your Name: Mahin\n"
     ]
    },
    {
     "name": "stdout",
     "output_type": "stream",
     "text": [
      "long name\n"
     ]
    }
   ],
   "source": [
    "myName = input (\"Please Enter Your Name:\")\n",
    "if len(myName)>= 5:\n",
    "    print (\"long name\")\n",
    "else:\n",
    "    print(\"short name\")"
   ]
  },
  {
   "cell_type": "code",
   "execution_count": 61,
   "id": "3a0292e2-89fb-4403-8d87-e6a31a311dcd",
   "metadata": {},
   "outputs": [
    {
     "name": "stdin",
     "output_type": "stream",
     "text": [
      "Please Enter Your Name: Mahsa\n"
     ]
    },
    {
     "name": "stdout",
     "output_type": "stream",
     "text": [
      "long name\n"
     ]
    }
   ],
   "source": [
    "myName = input (\"Please Enter Your Name:\")\n",
    "if len(myName)>= 5:\n",
    "    print (\"long name\")\n",
    "else:\n",
    "    print(\"short name\")"
   ]
  },
  {
   "cell_type": "code",
   "execution_count": 62,
   "id": "ac13ffeb-b87f-4f30-80b0-0e8b25e79d01",
   "metadata": {},
   "outputs": [],
   "source": [
    "inputName =\"\""
   ]
  },
  {
   "cell_type": "code",
   "execution_count": 63,
   "id": "f118d3eb-35b4-4fd8-9420-c6fb26ab9059",
   "metadata": {},
   "outputs": [
    {
     "name": "stdin",
     "output_type": "stream",
     "text": [
      "Plz Enter Your Name: Saeed\n"
     ]
    },
    {
     "name": "stdout",
     "output_type": "stream",
     "text": [
      "What a short name\n"
     ]
    }
   ],
   "source": [
    "inputName = input (\"Plz Enter Your Name:\")\n",
    "if len(inputName)> 5:\n",
    "    print(\"What a long name\")\n",
    "elif 3<len(inputName)<5:\n",
    "    print(\"What a mid name\")\n",
    "else:\n",
    "    print(\"What a short name\")"
   ]
  },
  {
   "cell_type": "code",
   "execution_count": 64,
   "id": "6bc5ef5e-5bbe-4180-bc37-a6e4e7892014",
   "metadata": {},
   "outputs": [
    {
     "name": "stdin",
     "output_type": "stream",
     "text": [
      "Plz Enter Your Name: Fazel\n"
     ]
    },
    {
     "name": "stdout",
     "output_type": "stream",
     "text": [
      "What a mid name\n"
     ]
    }
   ],
   "source": [
    "inputName = input (\"Plz Enter Your Name:\")\n",
    "if len(inputName)> 5:\n",
    "    print(\"What a long name\")\n",
    "elif 3<=len(inputName)<=8:\n",
    "    print(\"What a mid name\")\n",
    "else:\n",
    "    print(\"What a short name\")"
   ]
  },
  {
   "cell_type": "code",
   "execution_count": 65,
   "id": "931042c6-3621-4653-93c2-c9c16c64c8b6",
   "metadata": {},
   "outputs": [
    {
     "name": "stdin",
     "output_type": "stream",
     "text": [
      "Plz Enter Your Name: Alireza\n"
     ]
    },
    {
     "name": "stdout",
     "output_type": "stream",
     "text": [
      "What a long name\n"
     ]
    }
   ],
   "source": [
    "inputName = input (\"Plz Enter Your Name:\")\n",
    "if len(inputName)> 5:\n",
    "    print(\"What a long name\")\n",
    "elif 3<=len(inputName)<=8:\n",
    "    print(\"What a mid name\")\n",
    "else:\n",
    "    print(\"What a short name\")"
   ]
  },
  {
   "cell_type": "code",
   "execution_count": 66,
   "id": "c938dc91-d365-4255-b5bb-cfba0f37bb94",
   "metadata": {},
   "outputs": [
    {
     "name": "stdout",
     "output_type": "stream",
     "text": [
      "odd and more than 20\n"
     ]
    }
   ],
   "source": [
    "inputAge = 25           # or inputAge = int(input(\"Enter ur age\"))\n",
    "if inputAge > 20:\n",
    "    if inputAge % 2:\n",
    "        print (\"odd and more than 20\")\n",
    "    else:\n",
    "        print (\"even and more than 20\")\n",
    "else:\n",
    "    if inputAge % 2:\n",
    "        print (\"odd and less than 20\")\n",
    "    else:\n",
    "        print (\"even and less than 20\")"
   ]
  },
  {
   "cell_type": "code",
   "execution_count": 67,
   "id": "323d99e1-5e00-4fcc-99e9-d31fa95caa73",
   "metadata": {},
   "outputs": [
    {
     "name": "stdout",
     "output_type": "stream",
     "text": [
      "odd and less than 20\n"
     ]
    }
   ],
   "source": [
    "age = 19\n",
    "\n",
    "if age>20:\n",
    "    if age %2 ==0 :\n",
    "        print(\"even and more than 20\")\n",
    "    else :\n",
    "        print(\"odd and more than 20\")\n",
    "else:\n",
    "    if age %2==0 :\n",
    "        print(\"even and less than 20\")\n",
    "    else :\n",
    "        print(\"odd and less than 20\") "
   ]
  },
  {
   "cell_type": "markdown",
   "id": "683d5bcd-5b5e-456e-8670-83dd793ac9ff",
   "metadata": {},
   "source": [
    "### While loop"
   ]
  },
  {
   "cell_type": "code",
   "execution_count": 68,
   "id": "65d91255-5c07-4835-ac33-65c16dc20b21",
   "metadata": {},
   "outputs": [
    {
     "name": "stdout",
     "output_type": "stream",
     "text": [
      "5\n",
      "4\n",
      "3\n",
      "2\n",
      "1\n"
     ]
    }
   ],
   "source": [
    "tempInt = 5\n",
    "while tempInt > 0:\n",
    "    print(tempInt)\n",
    "    tempInt -= 1"
   ]
  },
  {
   "cell_type": "code",
   "execution_count": 69,
   "id": "f69b5bf1-c517-41b6-9ebd-46b2ae6a9e05",
   "metadata": {},
   "outputs": [
    {
     "name": "stdout",
     "output_type": "stream",
     "text": [
      "5\n",
      "4\n",
      "3\n",
      "2\n",
      "1\n"
     ]
    }
   ],
   "source": [
    "tempInt = 5\n",
    "while tempInt > 0:\n",
    "    print(tempInt)\n",
    "    tempInt = tempInt - 1 # faster than previous line"
   ]
  },
  {
   "cell_type": "markdown",
   "id": "74f4c17e-365e-482d-b5eb-a5ff3ab07935",
   "metadata": {},
   "source": [
    "### FIBONACCI < 100"
   ]
  },
  {
   "cell_type": "code",
   "execution_count": 70,
   "id": "31214a5c-cad3-4a51-a83b-28a8091388ae",
   "metadata": {},
   "outputs": [
    {
     "name": "stdout",
     "output_type": "stream",
     "text": [
      "1 2 3 5 8 13 21 34 55 89 \n"
     ]
    }
   ],
   "source": [
    "n = 10\n",
    "n1 = 0\n",
    "n2 = 1\n",
    "nextNumber = n2  \n",
    "count = 1\n",
    "\n",
    "while count <= n:\n",
    "    print(nextNumber, end=\" \")\n",
    "    count += 1\n",
    "    n1, n2 = n2, nextNumber\n",
    "    nextNumber = n1 + n2\n",
    "print()"
   ]
  },
  {
   "cell_type": "code",
   "execution_count": 71,
   "id": "ce1104c4-7703-4411-b7c1-22b53d894cca",
   "metadata": {},
   "outputs": [
    {
     "name": "stdout",
     "output_type": "stream",
     "text": [
      "1\n",
      "1\n",
      "2\n",
      "3\n",
      "5\n",
      "8\n",
      "13\n",
      "21\n",
      "34\n",
      "55\n",
      "89\n"
     ]
    }
   ],
   "source": [
    "n1 = 0\n",
    "n2 = 1\n",
    "n3 = 1\n",
    "while n3 <= 100:\n",
    "    print(n3)\n",
    "    n3 = n2 + n1\n",
    "    n1 = n2\n",
    "    n2 = n3"
   ]
  },
  {
   "cell_type": "code",
   "execution_count": 72,
   "id": "c04213ec-2d0b-47f6-89aa-8aa41bf7e3a0",
   "metadata": {},
   "outputs": [
    {
     "name": "stdout",
     "output_type": "stream",
     "text": [
      "[0, 1, 1, 2, 3, 5, 8, 13, 21, 34, 55, 89]\n"
     ]
    }
   ],
   "source": [
    "fib_sequence = [0, 1]\n",
    "while fib_sequence[-1] + fib_sequence[-2] < 100:\n",
    "    fib_sequence.append(fib_sequence[-1] + fib_sequence[-2])\n",
    "print(fib_sequence)"
   ]
  },
  {
   "cell_type": "markdown",
   "id": "9ddb5fd8-b1ce-4b17-b37a-69a929bfff07",
   "metadata": {},
   "source": [
    "# Session 8\n",
    "### Prime and not prime numbers"
   ]
  },
  {
   "cell_type": "code",
   "execution_count": 73,
   "id": "f4f37095-8834-495f-9d69-d9bae0747c6c",
   "metadata": {},
   "outputs": [
    {
     "name": "stdout",
     "output_type": "stream",
     "text": [
      "Prime\n"
     ]
    }
   ],
   "source": [
    "p = 17\n",
    "tempP = 2\n",
    "ayaAvalast = True\n",
    "while tempP < p:\n",
    "    if p % tempP ==0:\n",
    "        ayaAvalast = False\n",
    "        break\n",
    "    tempP += 1\n",
    "if ayaAvalast:\n",
    "    print(\"Prime\")\n",
    "else:\n",
    "    print(\"not Prime\")"
   ]
  },
  {
   "cell_type": "code",
   "execution_count": 74,
   "id": "974ab566-a322-4063-95c9-71d96651e672",
   "metadata": {},
   "outputs": [
    {
     "name": "stdout",
     "output_type": "stream",
     "text": [
      "not Prime\n"
     ]
    }
   ],
   "source": [
    "p = 18\n",
    "tempP = 2\n",
    "ayaAvalast = True\n",
    "while tempP < p:\n",
    "    if p % tempP ==0:\n",
    "        ayaAvalast = False\n",
    "        break\n",
    "    tempP += 1\n",
    "if ayaAvalast:\n",
    "    print(\"Prime\")\n",
    "else:\n",
    "    print(\"not Prime\")"
   ]
  },
  {
   "cell_type": "markdown",
   "id": "8c65e9ab-56e0-46ad-bc2d-2b5fb8adb40d",
   "metadata": {},
   "source": [
    "# Session 9"
   ]
  },
  {
   "cell_type": "markdown",
   "id": "3c485335-4af2-4c96-93a4-f740fb20c835",
   "metadata": {},
   "source": [
    "### For Loop"
   ]
  },
  {
   "cell_type": "code",
   "execution_count": 75,
   "id": "4c6b9723-b62e-497f-bae3-1e34681d9a2f",
   "metadata": {},
   "outputs": [
    {
     "name": "stdout",
     "output_type": "stream",
     "text": [
      "0\n",
      "1\n",
      "2\n",
      "3\n",
      "4\n",
      "5\n",
      "6\n",
      "7\n",
      "8\n",
      "9\n"
     ]
    }
   ],
   "source": [
    "for i in range(10):\n",
    "    print(i)"
   ]
  },
  {
   "cell_type": "code",
   "execution_count": 76,
   "id": "534b3ae7-ad0f-4ee5-8d05-78d159886a59",
   "metadata": {},
   "outputs": [
    {
     "name": "stdout",
     "output_type": "stream",
     "text": [
      "0\n",
      "1\n",
      "3\n",
      "6\n",
      "10\n"
     ]
    }
   ],
   "source": [
    "sum = 0\n",
    "for i in range(5):\n",
    "    sum += i\n",
    "    print(sum)"
   ]
  },
  {
   "cell_type": "code",
   "execution_count": 77,
   "id": "4702b1ad-1d39-48ed-a43a-0f4ef67fe4e7",
   "metadata": {},
   "outputs": [
    {
     "name": "stdout",
     "output_type": "stream",
     "text": [
      "i=0,sum=0\n",
      "i=1,sum=1\n",
      "i=2,sum=3\n",
      "i=3,sum=6\n",
      "i=4,sum=10\n",
      "end\n"
     ]
    }
   ],
   "source": [
    "sum = 0\n",
    "for i in range(5):\n",
    "    sum+= i\n",
    "    print('i='+str(i)+',sum='+str(sum))\n",
    "print('end')"
   ]
  },
  {
   "cell_type": "code",
   "execution_count": 78,
   "id": "b9aa9533-18df-4adf-ac95-0674791264cd",
   "metadata": {},
   "outputs": [
    {
     "name": "stdout",
     "output_type": "stream",
     "text": [
      "36288000\n"
     ]
    }
   ],
   "source": [
    "n = 10\n",
    "for i in range(1,n+1):\n",
    "    n *= i\n",
    "print(n)"
   ]
  },
  {
   "cell_type": "code",
   "execution_count": 79,
   "id": "f63763cc-117e-4063-965a-531ad4ac6cb7",
   "metadata": {},
   "outputs": [
    {
     "name": "stdout",
     "output_type": "stream",
     "text": [
      "3628800\n"
     ]
    }
   ],
   "source": [
    "n = 10\n",
    "fact = 1\n",
    "for i in range(n):\n",
    "    fact = fact*(i+1)\n",
    "print(fact)"
   ]
  },
  {
   "cell_type": "markdown",
   "id": "4fad42d4-ccb2-402b-bd9b-4f1df790d410",
   "metadata": {},
   "source": [
    "### Range"
   ]
  },
  {
   "cell_type": "code",
   "execution_count": 80,
   "id": "1c05448b-a86f-4ec6-bf61-279f00b86225",
   "metadata": {},
   "outputs": [
    {
     "name": "stdout",
     "output_type": "stream",
     "text": [
      "0\n",
      "1\n",
      "2\n",
      "3\n",
      "4\n",
      "\n",
      "\n",
      "2\n",
      "3\n",
      "4\n",
      "5\n",
      "6\n",
      "\n",
      "\n",
      "2\n",
      "4\n",
      "6\n"
     ]
    }
   ],
   "source": [
    "for i in range(5):\n",
    "    print(i)\n",
    "print(\"\\n\")\n",
    "for i in range(2, 7):\n",
    "    print(i)\n",
    "print(\"\\n\")\n",
    "for i in range(2, 7, 2):\n",
    "    print(i)"
   ]
  },
  {
   "cell_type": "code",
   "execution_count": 81,
   "id": "366f6a32-5876-46d5-93e5-704f638ce2c1",
   "metadata": {},
   "outputs": [
    {
     "name": "stdout",
     "output_type": "stream",
     "text": [
      "1\n",
      "2\n",
      "!! HOP !!\n",
      "4\n",
      "5\n",
      "!! HOP !!\n",
      "7\n",
      "8\n",
      "!! HOP !!\n",
      "10\n",
      "11\n",
      "!! HOP !!\n",
      "13\n",
      "14\n",
      "!! HOP !!\n",
      "16\n",
      "17\n",
      "!! HOP !!\n",
      "19\n",
      "20\n",
      "!! HOP !!\n",
      "22\n",
      "23\n",
      "!! HOP !!\n",
      "25\n"
     ]
    }
   ],
   "source": [
    "for i in range(1,26):\n",
    "    if i%3 == 0:\n",
    "        print(\"!! HOP !!\")\n",
    "    else:\n",
    "        print(i)\n",
    "    "
   ]
  },
  {
   "cell_type": "markdown",
   "id": "8fc37afd-1746-4510-ac52-bbee627a263b",
   "metadata": {},
   "source": [
    "# Session 10"
   ]
  },
  {
   "cell_type": "markdown",
   "id": "9b8215e9-a86f-4bb9-9871-f9f6181aed29",
   "metadata": {},
   "source": [
    "#### List"
   ]
  },
  {
   "cell_type": "code",
   "execution_count": 82,
   "id": "31919461-fbd6-4ada-92c8-71f81666e474",
   "metadata": {},
   "outputs": [
    {
     "name": "stdout",
     "output_type": "stream",
     "text": [
      "3\n"
     ]
    }
   ],
   "source": [
    "temp_list = [25, \"Fazel\", 4.9]\n",
    "print(len(temp_list))\n"
   ]
  },
  {
   "cell_type": "code",
   "execution_count": 83,
   "id": "0fd456b6-99dc-4f8f-bdd7-e5f802cf2125",
   "metadata": {},
   "outputs": [
    {
     "data": {
      "text/plain": [
       "5"
      ]
     },
     "execution_count": 83,
     "metadata": {},
     "output_type": "execute_result"
    }
   ],
   "source": [
    "len(temp_list[1])"
   ]
  },
  {
   "cell_type": "code",
   "execution_count": 84,
   "id": "b616fc45-7744-40f3-9f25-6640daa4cc42",
   "metadata": {},
   "outputs": [
    {
     "data": {
      "text/plain": [
       "'e'"
      ]
     },
     "execution_count": 84,
     "metadata": {},
     "output_type": "execute_result"
    }
   ],
   "source": [
    "temp_list[1][3]"
   ]
  },
  {
   "cell_type": "code",
   "execution_count": 85,
   "id": "944d5841-6874-4c0d-b55c-308eb92adc49",
   "metadata": {},
   "outputs": [
    {
     "data": {
      "text/plain": [
       "[25, 'Fazel']"
      ]
     },
     "execution_count": 85,
     "metadata": {},
     "output_type": "execute_result"
    }
   ],
   "source": [
    "temp_list[:-1]"
   ]
  },
  {
   "cell_type": "code",
   "execution_count": 86,
   "id": "c550fce1-588b-4a19-a1a2-72061bc18c06",
   "metadata": {},
   "outputs": [
    {
     "data": {
      "text/plain": [
       "['Fazel', 4.9]"
      ]
     },
     "execution_count": 86,
     "metadata": {},
     "output_type": "execute_result"
    }
   ],
   "source": [
    "temp_list[1:]"
   ]
  },
  {
   "cell_type": "code",
   "execution_count": 87,
   "id": "29609cea-a989-4fc3-b097-a7a3db1295a9",
   "metadata": {},
   "outputs": [
    {
     "name": "stdout",
     "output_type": "stream",
     "text": [
      "24\n",
      "13\n",
      "1\n",
      "[25, 'Fazel', 4.9]\n",
      "<class 'list'>\n"
     ]
    }
   ],
   "source": [
    "print(int(\"24\"))\n",
    "print(str(13))\n",
    "print(int(1.8))\n",
    "print(str(temp_list))\n",
    "print(type(temp_list))"
   ]
  },
  {
   "cell_type": "code",
   "execution_count": 88,
   "id": "27541f54-c443-4f2b-bc4a-41c178de9219",
   "metadata": {},
   "outputs": [
    {
     "name": "stdout",
     "output_type": "stream",
     "text": [
      "[25, 'Fazel']\n",
      "[25, 'Fazel', 4.9, 2, 'Programming', 2.71]\n",
      "[25, 'Fazel', 4.9, 2, 'Programming', 2.71, 'Bam']\n"
     ]
    }
   ],
   "source": [
    "print(temp_list[:-1])\n",
    "temp_list = temp_list + [2, \"Programming\", 2.71]\n",
    "print(temp_list)\n",
    "temp_list.append(\"Bam\")\n",
    "print(temp_list)"
   ]
  },
  {
   "cell_type": "code",
   "execution_count": 89,
   "id": "0a9e7bca-c6c6-4a48-b428-481ebbc2daea",
   "metadata": {},
   "outputs": [
    {
     "name": "stdout",
     "output_type": "stream",
     "text": [
      "Fazel\n",
      "[25, 4.9, 2, 'Programming', 2.71, 'Bam']\n"
     ]
    }
   ],
   "source": [
    "print(temp_list.pop(1))\n",
    "print(temp_list)"
   ]
  },
  {
   "cell_type": "code",
   "execution_count": 90,
   "id": "e476e6f7-843c-4147-9d31-18714adbff01",
   "metadata": {},
   "outputs": [
    {
     "name": "stdout",
     "output_type": "stream",
     "text": [
      "[23, 25, 26, 30, 35, 45]\n",
      "[4, 7, 17.5, 19.02]\n",
      "['B', 'L', 'b', 'f', 'p']\n"
     ]
    }
   ],
   "source": [
    "ages = [25, 23, 26, 45, 35, 30]\n",
    "ages.sort()\n",
    "print(ages)\n",
    "\n",
    "ages = [7, 4, 17.5, 19.02]\n",
    "ages.sort()\n",
    "print(ages)\n",
    "\n",
    "ages = [\"f\", \"b\", \"B\", \"L\", \"p\"]\n",
    "ages.sort()\n",
    "print(ages)"
   ]
  },
  {
   "cell_type": "code",
   "execution_count": 91,
   "id": "62368481-55cb-44a8-a387-10d739cab52b",
   "metadata": {},
   "outputs": [
    {
     "name": "stdout",
     "output_type": "stream",
     "text": [
      "['%', '2', '4', 'B', 'L', 'b', 'f', 'p']\n"
     ]
    }
   ],
   "source": [
    "ages = [\"f\", \"b\", \"B\", \"L\", \"p\", \"4\", \"2\", \"%\"]\n",
    "ages.sort()\n",
    "print(ages)"
   ]
  },
  {
   "cell_type": "markdown",
   "id": "c902b4f8-9ab9-401f-bf3d-1f53fea290c8",
   "metadata": {},
   "source": [
    "### Nesting :"
   ]
  },
  {
   "cell_type": "code",
   "execution_count": 92,
   "id": "2e1a0484-b76b-47d8-920f-789a78a5e949",
   "metadata": {},
   "outputs": [
    {
     "data": {
      "text/plain": [
       "[[1, 2, 3], [4, 5, 6], [7, 8, 9]]"
      ]
     },
     "execution_count": 92,
     "metadata": {},
     "output_type": "execute_result"
    }
   ],
   "source": [
    "nested_array = [[1,2,3],[4,5,6],[7,8,9]]\n",
    "nested_array"
   ]
  },
  {
   "cell_type": "code",
   "execution_count": 93,
   "id": "3e6df431-16e4-4bda-9f29-5fc52572bbb1",
   "metadata": {},
   "outputs": [
    {
     "name": "stdout",
     "output_type": "stream",
     "text": [
      "6\n"
     ]
    }
   ],
   "source": [
    "nested_array = [[1,2,3],[4,5,6],[7,8,9]]\n",
    "print(nested_array[1][2])"
   ]
  },
  {
   "cell_type": "code",
   "execution_count": 94,
   "id": "f0ddcc37-c0dc-45bb-b2cc-50374e480be9",
   "metadata": {},
   "outputs": [
    {
     "name": "stdout",
     "output_type": "stream",
     "text": [
      "18\n",
      "17\n",
      "12\n",
      "20\n",
      "19\n"
     ]
    }
   ],
   "source": [
    "my_grades = [18,17,12,20,19]\n",
    "for i in my_grades:\n",
    "    print(i)"
   ]
  },
  {
   "cell_type": "code",
   "execution_count": 95,
   "id": "f19ca1c3-55c3-4d9f-8869-e47293e0ab45",
   "metadata": {},
   "outputs": [],
   "source": [
    "my_courses = ['Physics', 'AP', 'Politics', 'Theory']"
   ]
  },
  {
   "cell_type": "markdown",
   "id": "b8bc66cb-a787-44bb-83d8-ecf601f5fc85",
   "metadata": {},
   "source": [
    "### Q. Print courses that you passed in the decending order"
   ]
  },
  {
   "cell_type": "code",
   "execution_count": 96,
   "id": "81bfed91-d690-4add-9241-2bf4dcbeba93",
   "metadata": {},
   "outputs": [
    {
     "name": "stdout",
     "output_type": "stream",
     "text": [
      "Physics = 18\n",
      "AP = 19\n",
      "Politics = 17\n"
     ]
    }
   ],
   "source": [
    "my_grades = [18, 19, 17, 9.9]\n",
    "my_courses = ['Physics', 'AP', 'Politics', 'Theory']\n",
    "for i in range(len(my_grades)):\n",
    "    if my_grades[i] >= 10:\n",
    "        print(my_courses[i],'=',my_grades[i])"
   ]
  },
  {
   "cell_type": "code",
   "execution_count": 97,
   "id": "e53d397c-7fc2-414f-a82e-b4bfdd38045f",
   "metadata": {},
   "outputs": [
    {
     "name": "stdout",
     "output_type": "stream",
     "text": [
      "Physics=18\n",
      "AP=19\n",
      "Politics=17\n",
      "Theory=9.9\n"
     ]
    }
   ],
   "source": [
    "for i in range(len(my_grades)):\n",
    "    print(my_courses[i]+'='+str(my_grades[i]))"
   ]
  },
  {
   "cell_type": "markdown",
   "id": "eeb9e440-b7de-4b56-9319-c5748356cc58",
   "metadata": {},
   "source": [
    "### Floor & ceiling function"
   ]
  },
  {
   "cell_type": "code",
   "execution_count": 98,
   "id": "99d9abbc-9e16-42d1-8137-d5fc2d15a441",
   "metadata": {},
   "outputs": [
    {
     "data": {
      "text/plain": [
       "3"
      ]
     },
     "execution_count": 98,
     "metadata": {},
     "output_type": "execute_result"
    }
   ],
   "source": [
    "pi = 3.14\n",
    "int(pi)"
   ]
  },
  {
   "cell_type": "code",
   "execution_count": 99,
   "id": "82fa9b0d-072e-46e2-b87e-98898931f55b",
   "metadata": {},
   "outputs": [
    {
     "data": {
      "text/plain": [
       "2"
      ]
     },
     "execution_count": 99,
     "metadata": {},
     "output_type": "execute_result"
    }
   ],
   "source": [
    "e = 2.7\n",
    "int(e)"
   ]
  },
  {
   "cell_type": "markdown",
   "id": "bb94d6c6-8d31-4b57-88f7-ce0c4623139f",
   "metadata": {},
   "source": [
    "# Session 11"
   ]
  },
  {
   "cell_type": "markdown",
   "id": "ede415e3-e285-4600-9b4a-a1d416fb273d",
   "metadata": {},
   "source": [
    "### Dictionary:"
   ]
  },
  {
   "cell_type": "code",
   "execution_count": 100,
   "id": "9f00c188-0544-4fed-8dc6-95a122c7ae78",
   "metadata": {},
   "outputs": [
    {
     "name": "stdout",
     "output_type": "stream",
     "text": [
      "Fazel\n"
     ]
    }
   ],
   "source": [
    "myProfile = {'firstName':'Fazel','lastName':'Basiri'}\n",
    "print(myProfile['firstName'])"
   ]
  },
  {
   "cell_type": "code",
   "execution_count": 101,
   "id": "d5c5e1a1-2878-44df-b5f6-443549f68a8f",
   "metadata": {},
   "outputs": [
    {
     "name": "stdout",
     "output_type": "stream",
     "text": [
      "{'firstName': 'Fazel', 'lastName': 'Basiri'}\n"
     ]
    }
   ],
   "source": [
    "myProfile1 = {'Name': myProfile , 'Age':25}\n",
    "print(myProfile1['Name'])"
   ]
  },
  {
   "cell_type": "code",
   "execution_count": 102,
   "id": "f8e59214-6ae0-4b5f-b149-56a6bc89439b",
   "metadata": {},
   "outputs": [
    {
     "name": "stdout",
     "output_type": "stream",
     "text": [
      "Fazel\n"
     ]
    }
   ],
   "source": [
    "print(myProfile1['Name']['firstName'])"
   ]
  },
  {
   "cell_type": "code",
   "execution_count": 103,
   "id": "2db86211-fb87-4509-87b0-9724880ceb23",
   "metadata": {},
   "outputs": [
    {
     "data": {
      "text/plain": [
       "{'Name': {'firstName': 'Fazel', 'lastName': 'Basiri'},\n",
       " 'Age': 25,\n",
       " 'Cities': ['Bam', 'Kish', 'Shiraz']}"
      ]
     },
     "execution_count": 103,
     "metadata": {},
     "output_type": "execute_result"
    }
   ],
   "source": [
    "Cities = ['Bam', 'Kish' , 'Shiraz']\n",
    "myProfile1['Cities'] = Cities\n",
    "myProfile1"
   ]
  },
  {
   "cell_type": "code",
   "execution_count": 104,
   "id": "66f945af-66b5-4b46-995a-f05ba138e5b3",
   "metadata": {},
   "outputs": [
    {
     "data": {
      "text/plain": [
       "3"
      ]
     },
     "execution_count": 104,
     "metadata": {},
     "output_type": "execute_result"
    }
   ],
   "source": [
    "len(myProfile1['Cities'])"
   ]
  },
  {
   "cell_type": "code",
   "execution_count": 105,
   "id": "bb084e63-4cf8-4e1d-986d-a58fbcd50fe2",
   "metadata": {},
   "outputs": [
    {
     "data": {
      "text/plain": [
       "'Shiraz'"
      ]
     },
     "execution_count": 105,
     "metadata": {},
     "output_type": "execute_result"
    }
   ],
   "source": [
    "myProfile1['Cities'][-1]"
   ]
  },
  {
   "cell_type": "code",
   "execution_count": 106,
   "id": "7037c125-9a9a-4201-aa2b-6c614321c9ea",
   "metadata": {},
   "outputs": [],
   "source": [
    "myProfile1['Friends'] = [\n",
    "                          {'firstName': ' Mahsa' , 'lastName': 'Kzn', 'Age': 23 , 'Id':0},\n",
    "                          {'firstName': ' Saeed' , 'lastName': 'Ashrafian', 'Age': 25 , 'Id':1},\n",
    "                          {'firstName': ' Alireza' , 'lastName': 'Pourmoghadam', 'Age': 26 , 'Id':2}]"
   ]
  },
  {
   "cell_type": "code",
   "execution_count": 107,
   "id": "2a13db5c-9f8f-4abe-81d5-16ae7a708aa1",
   "metadata": {},
   "outputs": [
    {
     "data": {
      "text/plain": [
       "{'Name': {'firstName': 'Fazel', 'lastName': 'Basiri'},\n",
       " 'Age': 25,\n",
       " 'Cities': ['Bam', 'Kish', 'Shiraz'],\n",
       " 'Friends': [{'firstName': ' Mahsa', 'lastName': 'Kzn', 'Age': 23, 'Id': 0},\n",
       "  {'firstName': ' Saeed', 'lastName': 'Ashrafian', 'Age': 25, 'Id': 1},\n",
       "  {'firstName': ' Alireza', 'lastName': 'Pourmoghadam', 'Age': 26, 'Id': 2},\n",
       "  {'firstName': 'Armin', 'lastName': 'Asadi', 'Age': 24, 'Id': '3'}]}"
      ]
     },
     "execution_count": 107,
     "metadata": {},
     "output_type": "execute_result"
    }
   ],
   "source": [
    "myProfile1['Friends'].append({'firstName': 'Armin' , 'lastName': 'Asadi', 'Age': 24 , 'Id':'3'})\n",
    "myProfile1"
   ]
  },
  {
   "cell_type": "markdown",
   "id": "76a7fd14-d9b8-499e-b971-d578a137a3c8",
   "metadata": {},
   "source": [
    "### Q print name of oldest friend and average age of your friends "
   ]
  },
  {
   "cell_type": "code",
   "execution_count": 108,
   "id": "0b07e670-9f0d-4ee1-b04d-2815a0691885",
   "metadata": {},
   "outputs": [],
   "source": [
    "def OldestAverageFriend(my_profile1):\n",
    "    Max_Age = 0\n",
    "    Max_Friend = 0\n",
    "    Sum_Age = 0\n",
    "    for i in my_profile1[\"Friends\"]:\n",
    "        Sum_Age += i[\"Age\"]\n",
    "        if i[\"Age\"] > Max_Age:\n",
    "            Max_Age = i[\"Age\"]\n",
    "            Max_Friend = i\n",
    "    Average_Age = Sum_Age / len(my_profile1[\"Friends\"])\n",
    "    return [Max_Friend,Average_Age ]"
   ]
  },
  {
   "cell_type": "code",
   "execution_count": 109,
   "id": "97c22832-6093-43ea-963a-edbf85e8d891",
   "metadata": {},
   "outputs": [
    {
     "name": "stdout",
     "output_type": "stream",
     "text": [
      " Alireza\n",
      "24.5\n",
      "[{'firstName': ' Alireza', 'lastName': 'Pourmoghadam', 'Age': 26, 'Id': 2}, 24.5]\n"
     ]
    }
   ],
   "source": [
    "oldest_friend = OldestAverageFriend(myProfile1)[0]\n",
    "print(oldest_friend[\"firstName\"])\n",
    "average_age_of_friend = OldestAverageFriend(myProfile1)[1]\n",
    "print(average_age_of_friend)\n",
    "output = OldestAverageFriend(myProfile1)\n",
    "print(output)\n"
   ]
  },
  {
   "cell_type": "code",
   "execution_count": 110,
   "id": "c195d816-5e6e-47ca-8770-13f775bcad46",
   "metadata": {},
   "outputs": [
    {
     "name": "stdout",
     "output_type": "stream",
     "text": [
      "My oldest friend is:  Alireza Pourmoghadam\n",
      "The average of my friends age is: 24\n"
     ]
    }
   ],
   "source": [
    "ages = []\n",
    "for i in range(len(myProfile1[\"Friends\"])):\n",
    "    ages.append(myProfile1[\"Friends\"][i][\"Age\"])\n",
    "print(\"My oldest friend is:\", myProfile1[\"Friends\"][ages.index(max(ages))][\"firstName\"], myProfile1[\"Friends\"][ages.index(max(ages))][\"lastName\"])\n",
    "average = 0\n",
    "for age in ages:\n",
    "    average += age\n",
    "print(\"The average of my friends age is:\", average//len(ages))"
   ]
  },
  {
   "cell_type": "markdown",
   "id": "4386e31f-1b78-4e81-82e2-bb3eb98362ec",
   "metadata": {},
   "source": [
    "# Session 12"
   ]
  },
  {
   "cell_type": "code",
   "execution_count": 111,
   "id": "829df7b0-2f2f-4eb0-8988-7d4cca21c885",
   "metadata": {},
   "outputs": [
    {
     "data": {
      "text/plain": [
       "dict_keys(['Name', 'Age', 'Cities', 'Friends'])"
      ]
     },
     "execution_count": 111,
     "metadata": {},
     "output_type": "execute_result"
    }
   ],
   "source": [
    "myProfile1.keys()"
   ]
  },
  {
   "cell_type": "code",
   "execution_count": 112,
   "id": "27dc1c67-8e9d-4462-a8a9-569864ddfb04",
   "metadata": {},
   "outputs": [
    {
     "data": {
      "text/plain": [
       "dict_values([{'firstName': 'Fazel', 'lastName': 'Basiri'}, 25, ['Bam', 'Kish', 'Shiraz'], [{'firstName': ' Mahsa', 'lastName': 'Kzn', 'Age': 23, 'Id': 0}, {'firstName': ' Saeed', 'lastName': 'Ashrafian', 'Age': 25, 'Id': 1}, {'firstName': ' Alireza', 'lastName': 'Pourmoghadam', 'Age': 26, 'Id': 2}, {'firstName': 'Armin', 'lastName': 'Asadi', 'Age': 24, 'Id': '3'}]])"
      ]
     },
     "execution_count": 112,
     "metadata": {},
     "output_type": "execute_result"
    }
   ],
   "source": [
    "myProfile1.values()"
   ]
  },
  {
   "cell_type": "code",
   "execution_count": 113,
   "id": "ffb858b8-5ed1-402b-8af3-96ae5de49eff",
   "metadata": {},
   "outputs": [
    {
     "name": "stdout",
     "output_type": "stream",
     "text": [
      "Age is listed\n"
     ]
    }
   ],
   "source": [
    "if \"Age\" in myProfile1.keys():\n",
    "    print(\"Age is listed\")\n",
    "    \n",
    "else:\n",
    "    print(\"Add age to the list\")"
   ]
  },
  {
   "cell_type": "code",
   "execution_count": 114,
   "id": "7a6362bd-600c-459a-8670-3f135e65bb89",
   "metadata": {},
   "outputs": [
    {
     "name": "stdout",
     "output_type": "stream",
     "text": [
      "It is ok\n"
     ]
    }
   ],
   "source": [
    "if \"Age\" in myProfile1.keys():\n",
    "    if myProfile1[\"Age\"]>=18:\n",
    "        print(\"It is ok\")\n",
    "else:\n",
    "    print(\"Add age\")"
   ]
  },
  {
   "cell_type": "markdown",
   "id": "a8ec48bd-91b5-424f-88eb-a2fe623187ed",
   "metadata": {},
   "source": [
    "## Files :"
   ]
  },
  {
   "cell_type": "code",
   "execution_count": 115,
   "id": "b6cd4f55-16c6-420d-9045-a8daffa11ece",
   "metadata": {},
   "outputs": [],
   "source": [
    "tempFile = open(\"myTextFile.txt\", \"w\")\n",
    "tempFile.write(str(myProfile1))\n",
    "tempFile.close()"
   ]
  },
  {
   "cell_type": "code",
   "execution_count": 116,
   "id": "22007e78-f5c1-45c8-a583-41188e05cb72",
   "metadata": {},
   "outputs": [
    {
     "name": "stdout",
     "output_type": "stream",
     "text": [
      "<_io.TextIOWrapper name='myTextFile.txt' mode='w' encoding='cp1252'>\n"
     ]
    }
   ],
   "source": [
    "print(tempFile)"
   ]
  },
  {
   "cell_type": "code",
   "execution_count": 117,
   "id": "1f0f1537-fea8-4679-9bf6-e94893e2215c",
   "metadata": {},
   "outputs": [],
   "source": [
    "amir_file = open(\"amir_profile.txt\" , \"r\")\n",
    "amir_profile = amir_file.read()\n",
    "amir_file.close()"
   ]
  },
  {
   "cell_type": "code",
   "execution_count": 118,
   "id": "e521a261-2660-47de-908a-0be15e771441",
   "metadata": {},
   "outputs": [
    {
     "name": "stdout",
     "output_type": "stream",
     "text": [
      "{'name': {'firstName': 'Amirhoshang', 'lastName': 'Hoseinpour Dehkordi'}, 'age': 34, 'cities': ['Tehran', 'Boston', 'Shahrekord'], 'farhadFriends': {'bestFriend': {'firstName': 'Philip', 'lastName': 'Fry', 'age': 35, 'id': 0}, 'lastButNotLeastFriend': {'firstName': 'Bender', 'lastName': 'Bending Rodrï¿½guez', 'age': 4, 'id': 1}, 0: {'firstName': 'Bender1', 'lastName': 'Bending Rodrï¿½guez', 'age': 4, 'id': 1}, 1: {'firstName': 'Bender2', 'lastName': 'Bending Rodrï¿½guez', 'age': 4, 'id': 1}, 2: {'firstName': 'Bender3', 'lastName': 'Bending Rodrï¿½guez', 'age': 4, 'id': 1}}, 'friends': [{'firstName': 'Philip', 'lastName': 'Fry', 'age': 35, 'id': 0}, {'firstName': 'Bender', 'lastName': 'Bending Rodrï¿½guez', 'age': 4, 'id': 1}, {'firstName': 'Amy', 'lastName': 'Wong', 'age': 30, 'id': 2}]}\n"
     ]
    }
   ],
   "source": [
    "print(amir_profile)"
   ]
  },
  {
   "cell_type": "markdown",
   "id": "6b23dc73-c8d5-4565-96f5-5784286499b2",
   "metadata": {},
   "source": [
    "# Session 13"
   ]
  },
  {
   "cell_type": "markdown",
   "id": "850695f5-6f78-4346-b68f-939557da94c8",
   "metadata": {},
   "source": [
    "### Functions :"
   ]
  },
  {
   "cell_type": "code",
   "execution_count": 119,
   "id": "bd0e0f2d-22e5-4171-969e-1d36579d6d16",
   "metadata": {},
   "outputs": [
    {
     "name": "stdout",
     "output_type": "stream",
     "text": [
      "5\n"
     ]
    }
   ],
   "source": [
    "print(len(\"Fazel\"))"
   ]
  },
  {
   "cell_type": "code",
   "execution_count": 120,
   "id": "d32ac6b4-226a-4c29-bc49-92b33a895ed8",
   "metadata": {},
   "outputs": [],
   "source": [
    "def FunctionName(myInput):\n",
    "    #print(myInput)\n",
    "    return myInput*2"
   ]
  },
  {
   "cell_type": "code",
   "execution_count": 121,
   "id": "c93e5227-e894-412e-b967-6cd9b945d7af",
   "metadata": {},
   "outputs": [
    {
     "data": {
      "text/plain": [
       "'FazelFazel'"
      ]
     },
     "execution_count": 121,
     "metadata": {},
     "output_type": "execute_result"
    }
   ],
   "source": [
    "myFunctionValue = FunctionName(\"Fazel\")\n",
    "myFunctionValue"
   ]
  },
  {
   "cell_type": "markdown",
   "id": "04b97367-a300-4259-b20f-07c4cf4a7abd",
   "metadata": {},
   "source": [
    "### Fibonacci :"
   ]
  },
  {
   "cell_type": "code",
   "execution_count": 122,
   "id": "a19f8db0-673a-4558-bb69-0c9a83a5c845",
   "metadata": {},
   "outputs": [
    {
     "name": "stdout",
     "output_type": "stream",
     "text": [
      "0\n",
      "1\n",
      "1\n",
      "2\n",
      "3\n",
      "5\n",
      "8\n",
      "13\n",
      "21\n"
     ]
    },
    {
     "data": {
      "text/plain": [
       "1597"
      ]
     },
     "execution_count": 122,
     "metadata": {},
     "output_type": "execute_result"
    }
   ],
   "source": [
    "def fibo(n):\n",
    "    if n == 1:\n",
    "        return 0\n",
    "    elif n == 2 or n == 3:\n",
    "        return 1\n",
    "    if n>3:\n",
    "        return(fibo(n-1)+fibo(n-2))\n",
    "\n",
    "print(fibo(1))\n",
    "print(fibo(2))\n",
    "print(fibo(3))\n",
    "print(fibo(4))\n",
    "print(fibo(5))\n",
    "print(fibo(6))\n",
    "print(fibo(7))\n",
    "print(fibo(8))\n",
    "print(fibo(9))\n",
    "fibo(18)"
   ]
  },
  {
   "cell_type": "code",
   "execution_count": 123,
   "id": "3d8fb2a9-24d7-4c64-9424-ffd3fd7d0b2c",
   "metadata": {},
   "outputs": [
    {
     "name": "stdout",
     "output_type": "stream",
     "text": [
      "8\n"
     ]
    }
   ],
   "source": [
    "n = 3\n",
    "mult = 1\n",
    "for i in range(n):\n",
    "    mult = mult*2\n",
    "a = mult\n",
    "print(a)"
   ]
  },
  {
   "cell_type": "code",
   "execution_count": 124,
   "id": "ff6d6f01-744a-457d-b631-e7595ed551c7",
   "metadata": {},
   "outputs": [
    {
     "name": "stdout",
     "output_type": "stream",
     "text": [
      "8\n"
     ]
    }
   ],
   "source": [
    "def power2(n):\n",
    "    mult = 1\n",
    "    for i in range(n):\n",
    "        mult = mult * 2\n",
    "    return mult\n",
    "print(mult)"
   ]
  },
  {
   "cell_type": "code",
   "execution_count": 125,
   "id": "571d176f-9d61-4022-8b11-8b87942c94d0",
   "metadata": {},
   "outputs": [],
   "source": [
    "def power_k(k,n):\n",
    "    mult = 1\n",
    "    for i in range(n):\n",
    "        mult = mult*k\n",
    "    return mult"
   ]
  },
  {
   "cell_type": "code",
   "execution_count": 126,
   "id": "053ef725-3e31-430e-bee9-6913b300411b",
   "metadata": {},
   "outputs": [
    {
     "data": {
      "text/plain": [
       "1024"
      ]
     },
     "execution_count": 126,
     "metadata": {},
     "output_type": "execute_result"
    }
   ],
   "source": [
    "power_k(4,5)"
   ]
  },
  {
   "cell_type": "markdown",
   "id": "a9b7819b-528f-4a6c-b26c-507c4038c596",
   "metadata": {},
   "source": [
    "# Q. Hop using function"
   ]
  },
  {
   "cell_type": "code",
   "execution_count": 127,
   "id": "1723d258-ebeb-407f-be21-b10cdc90dee7",
   "metadata": {},
   "outputs": [
    {
     "name": "stdout",
     "output_type": "stream",
     "text": [
      "4\n",
      "Hop!\n"
     ]
    }
   ],
   "source": [
    "def hop_p(p,n):\n",
    "    if n % p == 0:\n",
    "        return(\"Hop!\")\n",
    "    else:\n",
    "        return(n)\n",
    "print(hop_p(3,4))\n",
    "print(hop_p(5,10))"
   ]
  },
  {
   "cell_type": "markdown",
   "id": "770bc8b0-251d-41b4-a56d-6068c753c212",
   "metadata": {},
   "source": [
    "# Q. def swap(a,b) 4,3 = swap(3,4)"
   ]
  },
  {
   "cell_type": "code",
   "execution_count": 128,
   "id": "0e3a56fd-24c7-4647-8b15-81a9f09c1ea5",
   "metadata": {},
   "outputs": [
    {
     "name": "stdout",
     "output_type": "stream",
     "text": [
      "(4, 3)\n"
     ]
    }
   ],
   "source": [
    "def swap(a,b):\n",
    "    return b ,a\n",
    "print(swap(3,4))"
   ]
  },
  {
   "cell_type": "markdown",
   "id": "fa2df0db-ac0d-4ca9-806d-c5c3bf8a477d",
   "metadata": {},
   "source": [
    "# Session 14"
   ]
  },
  {
   "cell_type": "markdown",
   "id": "e3c5553b-b528-47bc-83f0-a8113dc5b52e",
   "metadata": {},
   "source": [
    "### Data flow :"
   ]
  },
  {
   "cell_type": "code",
   "execution_count": 129,
   "id": "ec3515c5-31ef-44fa-b6e0-f57556cbbd86",
   "metadata": {},
   "outputs": [
    {
     "data": {
      "text/plain": [
       "{'Name': {'firstName': 'Fazel', 'lastName': 'Basiri'},\n",
       " 'Age': 25,\n",
       " 'Cities': ['Bam', 'Kish', 'Shiraz'],\n",
       " 'Friends': [{'firstName': ' Mahsa', 'lastName': 'Kzn', 'Age': 23, 'Id': 0},\n",
       "  {'firstName': ' Saeed', 'lastName': 'Ashrafian', 'Age': 25, 'Id': 1},\n",
       "  {'firstName': ' Alireza', 'lastName': 'Pourmoghadam', 'Age': 26, 'Id': 2},\n",
       "  {'firstName': 'Armin', 'lastName': 'Asadi', 'Age': 24, 'Id': '3'}],\n",
       " 'Id': 13}"
      ]
     },
     "execution_count": 129,
     "metadata": {},
     "output_type": "execute_result"
    }
   ],
   "source": [
    "myId = 13\n",
    "myProfile1[\"Id\"] = myId\n",
    "myProfile1"
   ]
  },
  {
   "cell_type": "code",
   "execution_count": 130,
   "id": "70db938d-fffe-40e9-bd65-2a6aa79ba3f3",
   "metadata": {},
   "outputs": [
    {
     "data": {
      "text/plain": [
       "<_io.TextIOWrapper name='13.txt' mode='w' encoding='cp1252'>"
      ]
     },
     "execution_count": 130,
     "metadata": {},
     "output_type": "execute_result"
    }
   ],
   "source": [
    "tempFile = open(str(myProfile1[\"Id\"])+\".txt\" , \"w\")\n",
    "tempFile.write(str(myProfile1))\n",
    "tempFile.close()\n",
    "tempFile"
   ]
  },
  {
   "cell_type": "code",
   "execution_count": 131,
   "id": "56da90e1-cf01-4297-91e5-b9e99c25ead9",
   "metadata": {},
   "outputs": [
    {
     "name": "stdout",
     "output_type": "stream",
     "text": [
      "{'Name': {'firstName': 'Fazel', 'lastName': 'Basiri'}, 'Age': 25, 'Cities': ['Bam', 'Kish', 'Shiraz'], 'Friends': [{'firstName': ' Mahsa', 'lastName': 'Kzn', 'Age': 23, 'Id': 0}, {'firstName': ' Saeed', 'lastName': 'Ashrafian', 'Age': 25, 'Id': 1}, {'firstName': ' Alireza', 'lastName': 'Pourmoghadam', 'Age': 26, 'Id': 2}, {'firstName': 'Armin', 'lastName': 'Asadi', 'Age': 24, 'Id': '3'}, {'firstName': 'Armin', 'lastName': 'Asadi', 'Age': 24, 'Id': '3'}], 'Id': 13, 'id': 13}\n"
     ]
    }
   ],
   "source": [
    "profile_dict = {'Name': {'firstName': 'Fazel', 'lastName': 'Basiri'}, 'Age': 25, 'Cities': ['Bam', 'Kish', 'Shiraz'], 'Friends': [{'firstName': ' Mahsa', 'lastName': 'Kzn', 'Age': 23, 'Id': 0}, {'firstName': ' Saeed', 'lastName': 'Ashrafian', 'Age': 25, 'Id': 1}, {'firstName': ' Alireza', 'lastName': 'Pourmoghadam', 'Age': 26, 'Id': 2}, {'firstName': 'Armin', 'lastName': 'Asadi', 'Age': 24, 'Id': '3'}, {'firstName': 'Armin', 'lastName': 'Asadi', 'Age': 24, 'Id': '3'}], 'Id': 13}\n",
    "profile_dict[\"id\"] = 13\n",
    "print(profile_dict)\n",
    "name = str(profile_dict[\"id\"])\n",
    "temp_file = open(f\"{name}.txt\", \"w\")\n",
    "temp_file.write(str(profile_dict))\n",
    "temp_file.close()"
   ]
  },
  {
   "cell_type": "markdown",
   "id": "3a13b4fa-279c-407f-b597-2a4ad67271c1",
   "metadata": {},
   "source": [
    "# Session 15"
   ]
  },
  {
   "cell_type": "code",
   "execution_count": 132,
   "id": "3ab330cf-dd03-49c0-9c52-c24c8e50dc65",
   "metadata": {},
   "outputs": [
    {
     "name": "stdout",
     "output_type": "stream",
     "text": [
      "{'name': {'firstName': 'Fazel', 'lastName': 'Basiri'}, 'age': 25, 'cities': ['Bam', 'Shiraz', 'Kish'], 'friends': [{'firstName': 'Saeed', 'lastName': 'Ashrafian', 'age': 25}, {'firstName': 'Mahsa', 'lastName': 'Kzn', 'age':22}, {'firstName': 'Alireza', 'lastName': 'PourMoghadam', 'age':26}], 'id': 13}\n"
     ]
    }
   ],
   "source": [
    "f=open(\"classmates/13.txt\")\n",
    "data= f.read()\n",
    "f.close()\n",
    "print(data)"
   ]
  },
  {
   "cell_type": "code",
   "execution_count": 133,
   "id": "d4e1163a-f45f-4eec-8fec-b30a416a2f8b",
   "metadata": {},
   "outputs": [
    {
     "name": "stdout",
     "output_type": "stream",
     "text": [
      "Contents of Classmates\\1 .txt:\n",
      "{'name': {'first_name': 'Shayan', 'last_name': 'Shahvari'}, 'age': 20, 'cities': ['Tehran', 'Moscow', 'Kish'], 'friends': [{'first_name': 'Parsa', 'last_name': 'khaki', 'age': 30, 'id': 0}, {'first_name': 'Kiavash', 'last_name': 'abbasnejad', 'age': 37, 'id': 1}, {'first_name': 'Kourosh', 'last_name': 'ikani', 'age': 20}], 'id': 1}\n",
      "\n",
      "\n",
      "Contents of Classmates\\10.txt:\n",
      "{'name': {'firstName': 'amir_ali', 'lastName': 'mohammadi'}, 'age': 22, 'id': 10, 'cities': ['Tehran', 'kish', 'kabul'], 'farhadFriends': {'bestFriend': {'firstName': 'ikkin', 'lastName': 'golabi', 'age': 2, 'id': 0}, 'lastButNotLeastFriend': {'firstName': 'hossein', 'lastName': 'hezarpa', 'age': 40, 'id': 1}, 0: {'firstName': 'pedram', 'lastName': 'shahraki', 'age': 13, 'id': 1}, 1: {'firstName': 'Bender2', 'lastName': 'Bending Rodríguez', 'age': 4, 'id': 1}, 2: {'firstName': 'shahrooz', 'lastName': 'shabpareh', 'age': 60, 'id': 1}}, 'friends': [{'firstName': 'kamran', 'lastName': 'Fry', 'age': 80, 'id': 0}, {'firstName': 'aligoodarz', 'lastName': 'baboli', 'age': 4, 'id': 1}, {'firstName': 'parham', 'lastName': 'Wong', 'age': 30, 'id': 2}]}\n",
      "\n",
      "\n",
      "Contents of Classmates\\11.txt:\n",
      "{'name': {'first_name': 'Parsa', 'last_name': 'Mollaei'}, 'age': 22, 'my_id': 11, 'cities': ['tehran', 'esfehan', 'kerman'], 'friends': [{'first_name': 'ali', 'last_name': 'Barkhodari', 'age': 22, 'id': '2'}, {'first_name': 'AmirHossein', 'last_name': 'yousefzade', 'age': 22, 'id': 2}, {'first_name': 'Parnian', 'last_name': 'Mollaei', 'age': 13, 'id': 3}]}\n",
      "\n",
      "\n",
      "Contents of Classmates\\12.txt:\n",
      "{'id': 12, 'name': 'Sina', 'age': 21, 'email': 'sina.sherkat@example.com', 'location': 'Kish'}\n",
      "\n",
      "\n",
      "Contents of Classmates\\13.txt:\n",
      "{'name': {'firstName': 'Fazel', 'lastName': 'Basiri'}, 'age': 25, 'cities': ['Bam', 'Shiraz', 'Kish'], 'friends': [{'firstName': 'Saeed', 'lastName': 'Ashrafian', 'age': 25}, {'firstName': 'Mahsa', 'lastName': 'Kzn', 'age':22}, {'firstName': 'Alireza', 'lastName': 'PourMoghadam', 'age':26}], 'id': 13}\n",
      "\n",
      "\n",
      "Contents of Classmates\\14.txt:\n",
      "{'name': {'first name': 'Mahsa', 'last name': 'kzn'}, 'age': 22, 'cities': ['Tehran', 'Shiraz', 'Rasht', 'Mashhad'], 'friends': [{'firstname': 'Fazel', 'Lastname': 'basiri', 'age': 25, 'id': 13}, {'firstname': 'Niayesh', 'lastname': 'Mohammadi', 'age': 22, 'id': 0}], 'id': 14}\n",
      "\n",
      "\n",
      "Contents of Classmates\\16.txt:\n",
      "{'name': {'firstname': 'Hesam', 'lastName': 'Fatemizadeh'}, 'age': 21, 'cities': {'TEHRAN', 'KISH', 'ABADAN'}, 'friends': [{'firstname': 'mariam', 'lastname': 'shojaodin', 'age': 21, 'id': '100'}, {'firstname': 'abbas', 'lastname': 'ranjbar', 'age': 25, 'id': '101'}, {'firstname': 'ali', 'lastname': 'niazi', 'age': 23, 'id': 102}], 'id': 16}\n",
      "\n",
      "\n",
      "Contents of Classmates\\17.txt:\n",
      "{'name': {'first name': 'Mariam', 'last name': 'Shojaedin'}, 'age': 21, 'cities': ['Kaluga', 'Moscow', 'Sochi'], 'friends': [{'firstName': 'Mahsa', 'lastName': 'Rastaghi', 'age': 22, 'ID': '0'}, {'firstName': 'Hesam', 'lastName': 'Fatemizade', 'age': 21, 'ID': '1'}, {'firstName': 'Nika', 'lastName': 'Sadidi', 'age': 22, 'ID': '2'}, {'firstName': 'Ali', 'lastName': 'Niazi', 'age': 23, 'ID': '3'}], 'ID': 17}\n",
      "\n",
      "\n",
      "Contents of Classmates\\18.txt:\n",
      "{'Name': {'First name': 'Mahsa', 'Last name': 'Rastaghi'}, 'Age': 22, 'Cities': ['Kish', 'Shiraz', 'Tehran'], 'Friends': [{'first name': ' Mariam', 'Last name': 'Shojaedin', 'Age': 21, 'Id': 0}, {'first name': ' Nika', 'Last name': 'Sadidi', 'Age': 22, 'Id': 1}, {'first name': ' Hesam', 'Last name': 'Fatemi zadeh', 'Age': 21, 'Id': 2}, {'first name': 'Fatemeh', 'Last name': 'Sayyadi', 'Age': 22, 'Id': '3'}], 'Id': 18}\n",
      "\n",
      "\n",
      "Contents of Classmates\\19.txt:\n",
      "{'name': 'Mobina Mohammadiuon', 'age': 21, 'id': 19, 'cities': ['Tehran', 'Boston', 'Shahrkord'], 'friends': [{'firstName': 'Elaheh', 'lastName': 'HosseinAbadi', 'age': 21, 'id': 0}, {'firstName': 'Nika', 'lastName': 'Sadidi', 'age': 22, 'id': 1}, {'firstName': 'Azin', 'lastName': 'Esfandiari', 'age': 25, 'id': 2}]}\n",
      "\n",
      "\n",
      "Contents of Classmates\\2.txt:\n",
      "{'name': {'firstName': 'parsa', 'lastName': 'khaki'}, 'age': 19, 'cities': ['tehran', 'boston', 'mehran'], 'friends': [{'firstName': 'shayan', 'lastname': 'shahvari', 'age': 35, 'id': 0}, {'firstName': 'kiavash', 'lastName': 'abasnejad', 'age': 21, 'id': 1}, {'firstName': 'behrad', 'lastName': 'biniaz', 'age': 30, 'id': 2}], 'id': 2}\n",
      "\n",
      "\n",
      "Contents of Classmates\\4.txt:\n",
      "{'name': {'firstName': 'Zahra', 'lastName': 'Akhlaghipoor'}, 'age': 22, 'cities': ['Kish'], 'friends': [{'firstName': 'Tima', 'LastName': 'Kalhori', 'age': 19, 'id': 0}, {'firstName': 'Nikki', 'LastName': 'Khayyat', 'age': 21, 'id': 1}], 'id': 4}\n",
      "\n",
      "\n",
      "Contents of Classmates\\5.txt:\n",
      "{'firstName': 'Tima', 'lastName': 'Kalhori', 'age': 19, 'cities': ['Tehran', 'Boston', 'Shahrekord'], 'friends': [{'firstName': 'philip', 'lastName': 'fry', 'age': 35, 'id': 0}, {'firstName': 'zahra', 'lastName': 'akhlaghipoor', 'age': 22, 'id': 12}, {'firstName': 'leili', 'lastname': 'shabani', 'age': 27, 'id': 32}], 'id': 5}\n",
      "\n",
      "\n",
      "Contents of Classmates\\6.txt:\n",
      "{'name': {'firstname': 'Nikki', 'lastname': 'Khayyat'}, 'age': 23, 'cities': ['Tehran', 'Boston', 'Shahrekord'], 'friends': [{'firstname': 'Charles', 'lastname': 'Lec', 'age': 27, 'ID': 0}, {'firstname': 'Franco', 'lastname': 'Colapinto', 'age': 21, 'ID': 0}, {'firstname': 'Lewis', 'lastname': 'Hamilton', 'age': 40, 'ID': 0}], 'Id': 6}\n",
      "\n",
      "\n",
      "Contents of Classmates\\7.txt:\n",
      "{'name': {'firstname': 'Saba', 'surname': 'Sarlak'}, 'age': 20, 'cities': ['kl', 'iis', 'maha'], 'lastCity': ['kl'], 'friends': [{'firstname': 'elnaz', 'lastname': 'ahmad', 'age': 22, 'id': 0}, {'firstname': 'asal', 'lastname': 'sabaghzade', 'age': 26, 'id': 2}, {'firstname': 'setia', 'lastname': 'dehghan', 'id': 'bestfriend', 'age': 25}], 'id': 7}\n",
      "\n",
      "\n",
      "Contents of Classmates\\8.txt:\n",
      "{'name': {'first name': 'Mohammad', 'last name': 'Mohammad Khaninezhad'}, 'age': 20, 'cities': ['Tehran', 'Boston', 'Shahrekord'], 'friends': [{'first name': 'Shahrad', 'last name': 'Shahraki', 'age': 21, 'id': 0}, {'first name': 'Hossein', 'last name': 'Dehghan', 'age': 22, 'id': 1}, {'first name': 'Erfan', 'last name': 'Kasef', 'age': 23, 'id': 2}], 'id': 8}\n",
      "\n",
      "\n",
      "Contents of Classmates\\9.txt:\n",
      "{'name': {'first name': 'shahrad', 'last name': 'shahraki'}, 'age': 22, 'cities': ['birjand', 'khoosf', 'tabas'], 'friends': [{'first name': 'alireza', 'last name': 'balali', 'age': 7, 'id': 2}, {'first name': 'shahrokh', 'last name': 'shahmohammadi', 'age': 40, 'id': 7}, {'first name': 'saba', 'last name': 'samaani', 'age': 34, 'id': 5}], 'id': 9}\n",
      "\n",
      "\n"
     ]
    }
   ],
   "source": [
    "import glob\n",
    "file_list = glob.glob('Classmates/*.txt')\n",
    "for file_name in file_list:\n",
    "    with open(file_name, 'r') as file:\n",
    "        content = file.read()\n",
    "        print(f\"Contents of {file_name}:\")\n",
    "        print(content)\n",
    "        print(\"\\n\")"
   ]
  },
  {
   "cell_type": "code",
   "execution_count": 134,
   "id": "75935230-e52f-4c1d-933e-bc9fdfcff3d8",
   "metadata": {},
   "outputs": [
    {
     "name": "stdout",
     "output_type": "stream",
     "text": [
      "['1 .txt', '10.txt', '11.txt', '12.txt', '13.txt', '14.txt', '16.txt', '17.txt', '18.txt', '19.txt', '2.txt', '4.txt', '5.txt', '6.txt', '7.txt', '8.txt', '9.txt']\n"
     ]
    }
   ],
   "source": [
    "import os\n",
    "List_of_files = os.listdir('C:\\\\Users\\\\Fazel\\\\Documents\\\\AP\\\\classmates')\n",
    "print(List_of_files)"
   ]
  },
  {
   "cell_type": "code",
   "execution_count": 135,
   "id": "01a869e3-fc8d-4c8f-a2f4-654ad2137620",
   "metadata": {},
   "outputs": [
    {
     "name": "stdout",
     "output_type": "stream",
     "text": [
      "C:\\Users\\Fazel\\Documents\\AP\n",
      "['1 .txt', '10.txt', '11.txt', '12.txt', '13.txt', '14.txt', '16.txt', '17.txt', '18.txt', '19.txt', '2.txt', '4.txt', '5.txt', '6.txt', '7.txt', '8.txt', '9.txt']\n"
     ]
    }
   ],
   "source": [
    "import os\n",
    "ROOT_DIR = os.path.abspath(os.curdir)\n",
    "print(ROOT_DIR)\n",
    "List_of_files = os.listdir(ROOT_DIR+'/classmates')\n",
    "print(List_of_files)"
   ]
  },
  {
   "cell_type": "code",
   "execution_count": 136,
   "id": "f32f0d6f-515d-4837-9743-ae5b8c950454",
   "metadata": {},
   "outputs": [
    {
     "data": {
      "text/plain": [
       "[\"{'name': {'first_name': 'Shayan', 'last_name': 'Shahvari'}, 'age': 20, 'cities': ['Tehran', 'Moscow', 'Kish'], 'friends': [{'first_name': 'Parsa', 'last_name': 'khaki', 'age': 30, 'id': 0}, {'first_name': 'Kiavash', 'last_name': 'abbasnejad', 'age': 37, 'id': 1}, {'first_name': 'Kourosh', 'last_name': 'ikani', 'age': 20}], 'id': 1}\",\n",
       " \"{'name': {'firstName': 'amir_ali', 'lastName': 'mohammadi'}, 'age': 22, 'id': 10, 'cities': ['Tehran', 'kish', 'kabul'], 'farhadFriends': {'bestFriend': {'firstName': 'ikkin', 'lastName': 'golabi', 'age': 2, 'id': 0}, 'lastButNotLeastFriend': {'firstName': 'hossein', 'lastName': 'hezarpa', 'age': 40, 'id': 1}, 0: {'firstName': 'pedram', 'lastName': 'shahraki', 'age': 13, 'id': 1}, 1: {'firstName': 'Bender2', 'lastName': 'Bending Rodríguez', 'age': 4, 'id': 1}, 2: {'firstName': 'shahrooz', 'lastName': 'shabpareh', 'age': 60, 'id': 1}}, 'friends': [{'firstName': 'kamran', 'lastName': 'Fry', 'age': 80, 'id': 0}, {'firstName': 'aligoodarz', 'lastName': 'baboli', 'age': 4, 'id': 1}, {'firstName': 'parham', 'lastName': 'Wong', 'age': 30, 'id': 2}]}\",\n",
       " \"{'name': {'first_name': 'Parsa', 'last_name': 'Mollaei'}, 'age': 22, 'my_id': 11, 'cities': ['tehran', 'esfehan', 'kerman'], 'friends': [{'first_name': 'ali', 'last_name': 'Barkhodari', 'age': 22, 'id': '2'}, {'first_name': 'AmirHossein', 'last_name': 'yousefzade', 'age': 22, 'id': 2}, {'first_name': 'Parnian', 'last_name': 'Mollaei', 'age': 13, 'id': 3}]}\",\n",
       " \"{'id': 12, 'name': 'Sina', 'age': 21, 'email': 'sina.sherkat@example.com', 'location': 'Kish'}\",\n",
       " \"{'name': {'firstName': 'Fazel', 'lastName': 'Basiri'}, 'age': 25, 'cities': ['Bam', 'Shiraz', 'Kish'], 'friends': [{'firstName': 'Saeed', 'lastName': 'Ashrafian', 'age': 25}, {'firstName': 'Mahsa', 'lastName': 'Kzn', 'age':22}, {'firstName': 'Alireza', 'lastName': 'PourMoghadam', 'age':26}], 'id': 13}\",\n",
       " \"{'name': {'first name': 'Mahsa', 'last name': 'kzn'}, 'age': 22, 'cities': ['Tehran', 'Shiraz', 'Rasht', 'Mashhad'], 'friends': [{'firstname': 'Fazel', 'Lastname': 'basiri', 'age': 25, 'id': 13}, {'firstname': 'Niayesh', 'lastname': 'Mohammadi', 'age': 22, 'id': 0}], 'id': 14}\",\n",
       " \"{'name': {'firstname': 'Hesam', 'lastName': 'Fatemizadeh'}, 'age': 21, 'cities': {'TEHRAN', 'KISH', 'ABADAN'}, 'friends': [{'firstname': 'mariam', 'lastname': 'shojaodin', 'age': 21, 'id': '100'}, {'firstname': 'abbas', 'lastname': 'ranjbar', 'age': 25, 'id': '101'}, {'firstname': 'ali', 'lastname': 'niazi', 'age': 23, 'id': 102}], 'id': 16}\",\n",
       " \"{'name': {'first name': 'Mariam', 'last name': 'Shojaedin'}, 'age': 21, 'cities': ['Kaluga', 'Moscow', 'Sochi'], 'friends': [{'firstName': 'Mahsa', 'lastName': 'Rastaghi', 'age': 22, 'ID': '0'}, {'firstName': 'Hesam', 'lastName': 'Fatemizade', 'age': 21, 'ID': '1'}, {'firstName': 'Nika', 'lastName': 'Sadidi', 'age': 22, 'ID': '2'}, {'firstName': 'Ali', 'lastName': 'Niazi', 'age': 23, 'ID': '3'}], 'ID': 17}\",\n",
       " \"{'Name': {'First name': 'Mahsa', 'Last name': 'Rastaghi'}, 'Age': 22, 'Cities': ['Kish', 'Shiraz', 'Tehran'], 'Friends': [{'first name': ' Mariam', 'Last name': 'Shojaedin', 'Age': 21, 'Id': 0}, {'first name': ' Nika', 'Last name': 'Sadidi', 'Age': 22, 'Id': 1}, {'first name': ' Hesam', 'Last name': 'Fatemi zadeh', 'Age': 21, 'Id': 2}, {'first name': 'Fatemeh', 'Last name': 'Sayyadi', 'Age': 22, 'Id': '3'}], 'Id': 18}\",\n",
       " \"{'name': 'Mobina Mohammadiuon', 'age': 21, 'id': 19, 'cities': ['Tehran', 'Boston', 'Shahrkord'], 'friends': [{'firstName': 'Elaheh', 'lastName': 'HosseinAbadi', 'age': 21, 'id': 0}, {'firstName': 'Nika', 'lastName': 'Sadidi', 'age': 22, 'id': 1}, {'firstName': 'Azin', 'lastName': 'Esfandiari', 'age': 25, 'id': 2}]}\",\n",
       " \"{'name': {'firstName': 'parsa', 'lastName': 'khaki'}, 'age': 19, 'cities': ['tehran', 'boston', 'mehran'], 'friends': [{'firstName': 'shayan', 'lastname': 'shahvari', 'age': 35, 'id': 0}, {'firstName': 'kiavash', 'lastName': 'abasnejad', 'age': 21, 'id': 1}, {'firstName': 'behrad', 'lastName': 'biniaz', 'age': 30, 'id': 2}], 'id': 2}\",\n",
       " \"{'name': {'firstName': 'Zahra', 'lastName': 'Akhlaghipoor'}, 'age': 22, 'cities': ['Kish'], 'friends': [{'firstName': 'Tima', 'LastName': 'Kalhori', 'age': 19, 'id': 0}, {'firstName': 'Nikki', 'LastName': 'Khayyat', 'age': 21, 'id': 1}], 'id': 4}\",\n",
       " \"{'firstName': 'Tima', 'lastName': 'Kalhori', 'age': 19, 'cities': ['Tehran', 'Boston', 'Shahrekord'], 'friends': [{'firstName': 'philip', 'lastName': 'fry', 'age': 35, 'id': 0}, {'firstName': 'zahra', 'lastName': 'akhlaghipoor', 'age': 22, 'id': 12}, {'firstName': 'leili', 'lastname': 'shabani', 'age': 27, 'id': 32}], 'id': 5}\",\n",
       " \"{'name': {'firstname': 'Nikki', 'lastname': 'Khayyat'}, 'age': 23, 'cities': ['Tehran', 'Boston', 'Shahrekord'], 'friends': [{'firstname': 'Charles', 'lastname': 'Lec', 'age': 27, 'ID': 0}, {'firstname': 'Franco', 'lastname': 'Colapinto', 'age': 21, 'ID': 0}, {'firstname': 'Lewis', 'lastname': 'Hamilton', 'age': 40, 'ID': 0}], 'Id': 6}\",\n",
       " \"{'name': {'firstname': 'Saba', 'surname': 'Sarlak'}, 'age': 20, 'cities': ['kl', 'iis', 'maha'], 'lastCity': ['kl'], 'friends': [{'firstname': 'elnaz', 'lastname': 'ahmad', 'age': 22, 'id': 0}, {'firstname': 'asal', 'lastname': 'sabaghzade', 'age': 26, 'id': 2}, {'firstname': 'setia', 'lastname': 'dehghan', 'id': 'bestfriend', 'age': 25}], 'id': 7}\",\n",
       " \"{'name': {'first name': 'Mohammad', 'last name': 'Mohammad Khaninezhad'}, 'age': 20, 'cities': ['Tehran', 'Boston', 'Shahrekord'], 'friends': [{'first name': 'Shahrad', 'last name': 'Shahraki', 'age': 21, 'id': 0}, {'first name': 'Hossein', 'last name': 'Dehghan', 'age': 22, 'id': 1}, {'first name': 'Erfan', 'last name': 'Kasef', 'age': 23, 'id': 2}], 'id': 8}\",\n",
       " \"{'name': {'first name': 'shahrad', 'last name': 'shahraki'}, 'age': 22, 'cities': ['birjand', 'khoosf', 'tabas'], 'friends': [{'first name': 'alireza', 'last name': 'balali', 'age': 7, 'id': 2}, {'first name': 'shahrokh', 'last name': 'shahmohammadi', 'age': 40, 'id': 7}, {'first name': 'saba', 'last name': 'samaani', 'age': 34, 'id': 5}], 'id': 9}\"]"
      ]
     },
     "execution_count": 136,
     "metadata": {},
     "output_type": "execute_result"
    }
   ],
   "source": [
    "Classmates_Profile = []\n",
    "\n",
    "for i in List_of_files:\n",
    "    f = open('classmates/'+ i)\n",
    "    temp_profile = f.read()\n",
    "    Classmates_Profile.append(temp_profile)\n",
    "    f.close()\n",
    "Classmates_Profile"
   ]
  },
  {
   "cell_type": "markdown",
   "id": "58102918-3119-4da5-a6bb-d88ce5d64e05",
   "metadata": {},
   "source": [
    "# Session 16 & 17"
   ]
  },
  {
   "cell_type": "markdown",
   "id": "7ad345c7-b20a-488c-84a9-746af5c5d889",
   "metadata": {},
   "source": [
    "### Q. Average age of classmates using jason library"
   ]
  },
  {
   "cell_type": "code",
   "execution_count": 137,
   "id": "e0b8b4d7-1b55-41e2-84f4-698da68da04c",
   "metadata": {},
   "outputs": [
    {
     "name": "stderr",
     "output_type": "stream",
     "text": [
      "ERROR: Could not find a version that satisfies the requirement json (from versions: none)\n",
      "ERROR: No matching distribution found for json\n"
     ]
    }
   ],
   "source": [
    "!pip install json"
   ]
  },
  {
   "cell_type": "code",
   "execution_count": 138,
   "id": "bd2b814e-80d9-4b82-bcab-401f294c2693",
   "metadata": {},
   "outputs": [],
   "source": [
    "# import json\n",
    "# data = json.loads(\"temp_profile\")"
   ]
  },
  {
   "cell_type": "code",
   "execution_count": 139,
   "id": "eb10a13f-1fe7-44a6-8cf2-c89c6d97581e",
   "metadata": {},
   "outputs": [
    {
     "name": "stdout",
     "output_type": "stream",
     "text": [
      "Requirement already satisfied: pandas in c:\\users\\fazel\\anaconda3\\lib\\site-packages (2.1.4)\n",
      "Requirement already satisfied: numpy<2,>=1.23.2 in c:\\users\\fazel\\anaconda3\\lib\\site-packages (from pandas) (1.26.4)\n",
      "Requirement already satisfied: python-dateutil>=2.8.2 in c:\\users\\fazel\\anaconda3\\lib\\site-packages (from pandas) (2.8.2)\n",
      "Requirement already satisfied: pytz>=2020.1 in c:\\users\\fazel\\anaconda3\\lib\\site-packages (from pandas) (2023.3.post1)\n",
      "Requirement already satisfied: tzdata>=2022.1 in c:\\users\\fazel\\anaconda3\\lib\\site-packages (from pandas) (2023.3)\n",
      "Requirement already satisfied: six>=1.5 in c:\\users\\fazel\\anaconda3\\lib\\site-packages (from python-dateutil>=2.8.2->pandas) (1.16.0)\n"
     ]
    }
   ],
   "source": [
    "!pip install pandas"
   ]
  },
  {
   "cell_type": "code",
   "execution_count": 140,
   "id": "1fd5a75e-7aa1-4215-8070-3c725da6a27c",
   "metadata": {},
   "outputs": [
    {
     "data": {
      "text/html": [
       "<div>\n",
       "<style scoped>\n",
       "    .dataframe tbody tr th:only-of-type {\n",
       "        vertical-align: middle;\n",
       "    }\n",
       "\n",
       "    .dataframe tbody tr th {\n",
       "        vertical-align: top;\n",
       "    }\n",
       "\n",
       "    .dataframe thead th {\n",
       "        text-align: right;\n",
       "    }\n",
       "</style>\n",
       "<table border=\"1\" class=\"dataframe\">\n",
       "  <thead>\n",
       "    <tr style=\"text-align: right;\">\n",
       "      <th></th>\n",
       "      <th>tconst</th>\n",
       "      <th>averageRating</th>\n",
       "      <th>numVotes</th>\n",
       "    </tr>\n",
       "  </thead>\n",
       "  <tbody>\n",
       "    <tr>\n",
       "      <th>0</th>\n",
       "      <td>tt0000001</td>\n",
       "      <td>5.7</td>\n",
       "      <td>2106</td>\n",
       "    </tr>\n",
       "    <tr>\n",
       "      <th>1</th>\n",
       "      <td>tt0000002</td>\n",
       "      <td>5.6</td>\n",
       "      <td>283</td>\n",
       "    </tr>\n",
       "    <tr>\n",
       "      <th>2</th>\n",
       "      <td>tt0000003</td>\n",
       "      <td>6.5</td>\n",
       "      <td>2127</td>\n",
       "    </tr>\n",
       "    <tr>\n",
       "      <th>3</th>\n",
       "      <td>tt0000004</td>\n",
       "      <td>5.4</td>\n",
       "      <td>182</td>\n",
       "    </tr>\n",
       "    <tr>\n",
       "      <th>4</th>\n",
       "      <td>tt0000005</td>\n",
       "      <td>6.2</td>\n",
       "      <td>2855</td>\n",
       "    </tr>\n",
       "    <tr>\n",
       "      <th>...</th>\n",
       "      <td>...</td>\n",
       "      <td>...</td>\n",
       "      <td>...</td>\n",
       "    </tr>\n",
       "    <tr>\n",
       "      <th>1504993</th>\n",
       "      <td>tt9916730</td>\n",
       "      <td>7.0</td>\n",
       "      <td>12</td>\n",
       "    </tr>\n",
       "    <tr>\n",
       "      <th>1504994</th>\n",
       "      <td>tt9916766</td>\n",
       "      <td>7.1</td>\n",
       "      <td>24</td>\n",
       "    </tr>\n",
       "    <tr>\n",
       "      <th>1504995</th>\n",
       "      <td>tt9916778</td>\n",
       "      <td>7.2</td>\n",
       "      <td>37</td>\n",
       "    </tr>\n",
       "    <tr>\n",
       "      <th>1504996</th>\n",
       "      <td>tt9916840</td>\n",
       "      <td>6.9</td>\n",
       "      <td>11</td>\n",
       "    </tr>\n",
       "    <tr>\n",
       "      <th>1504997</th>\n",
       "      <td>tt9916880</td>\n",
       "      <td>7.9</td>\n",
       "      <td>9</td>\n",
       "    </tr>\n",
       "  </tbody>\n",
       "</table>\n",
       "<p>1504998 rows × 3 columns</p>\n",
       "</div>"
      ],
      "text/plain": [
       "            tconst  averageRating  numVotes\n",
       "0        tt0000001            5.7      2106\n",
       "1        tt0000002            5.6       283\n",
       "2        tt0000003            6.5      2127\n",
       "3        tt0000004            5.4       182\n",
       "4        tt0000005            6.2      2855\n",
       "...            ...            ...       ...\n",
       "1504993  tt9916730            7.0        12\n",
       "1504994  tt9916766            7.1        24\n",
       "1504995  tt9916778            7.2        37\n",
       "1504996  tt9916840            6.9        11\n",
       "1504997  tt9916880            7.9         9\n",
       "\n",
       "[1504998 rows x 3 columns]"
      ]
     },
     "metadata": {},
     "output_type": "display_data"
    }
   ],
   "source": [
    "import pandas as pd\n",
    "df= pd.read_csv('title.ratings.tsv', sep='\\t')\n",
    "display(df)"
   ]
  },
  {
   "cell_type": "code",
   "execution_count": 141,
   "id": "c60784a2-e8cf-4d71-8485-d3292b6d1c84",
   "metadata": {},
   "outputs": [
    {
     "name": "stdout",
     "output_type": "stream",
     "text": [
      "Maximum value of 'averageRating': \n",
      "10.0\n"
     ]
    }
   ],
   "source": [
    "maxClm = df['averageRating'].max()\n",
    "print(\"Maximum value of 'averageRating': \")\n",
    "print(maxClm)"
   ]
  },
  {
   "cell_type": "code",
   "execution_count": 144,
   "id": "a26031bb-5003-4229-ab89-755f093cfac2",
   "metadata": {},
   "outputs": [
    {
     "name": "stdout",
     "output_type": "stream",
     "text": [
      "Maximum value of 'numVotes': \n",
      "2968683\n"
     ]
    }
   ],
   "source": [
    "maxClm = df['numVotes'].max()\n",
    "print(\"Maximum value of 'numVotes': \")\n",
    "print(maxClm)"
   ]
  },
  {
   "cell_type": "code",
   "execution_count": 145,
   "id": "8bdb7390-3c5d-42a6-a491-9000043e907c",
   "metadata": {},
   "outputs": [
    {
     "data": {
      "text/html": [
       "<div>\n",
       "<style scoped>\n",
       "    .dataframe tbody tr th:only-of-type {\n",
       "        vertical-align: middle;\n",
       "    }\n",
       "\n",
       "    .dataframe tbody tr th {\n",
       "        vertical-align: top;\n",
       "    }\n",
       "\n",
       "    .dataframe thead th {\n",
       "        text-align: right;\n",
       "    }\n",
       "</style>\n",
       "<table border=\"1\" class=\"dataframe\">\n",
       "  <thead>\n",
       "    <tr style=\"text-align: right;\">\n",
       "      <th></th>\n",
       "      <th>Poster_Link</th>\n",
       "      <th>Series_Title</th>\n",
       "      <th>Released_Year</th>\n",
       "      <th>Certificate</th>\n",
       "      <th>Runtime</th>\n",
       "      <th>Genre</th>\n",
       "      <th>IMDB_Rating</th>\n",
       "      <th>Overview</th>\n",
       "      <th>Meta_score</th>\n",
       "      <th>Director</th>\n",
       "      <th>Star1</th>\n",
       "      <th>Star2</th>\n",
       "      <th>Star3</th>\n",
       "      <th>Star4</th>\n",
       "      <th>No_of_Votes</th>\n",
       "      <th>Gross</th>\n",
       "      <th>Number_of_Movies</th>\n",
       "    </tr>\n",
       "  </thead>\n",
       "  <tbody>\n",
       "    <tr>\n",
       "      <th>0</th>\n",
       "      <td>https://m.media-amazon.com/images/M/MV5BMDFkYT...</td>\n",
       "      <td>The Shawshank Redemption</td>\n",
       "      <td>1994</td>\n",
       "      <td>A</td>\n",
       "      <td>142 min</td>\n",
       "      <td>Drama</td>\n",
       "      <td>9.3</td>\n",
       "      <td>Two imprisoned men bond over a number of years...</td>\n",
       "      <td>80.0</td>\n",
       "      <td>Frank Darabont</td>\n",
       "      <td>Tim Robbins</td>\n",
       "      <td>Morgan Freeman</td>\n",
       "      <td>Bob Gunton</td>\n",
       "      <td>William Sadler</td>\n",
       "      <td>2343110</td>\n",
       "      <td>28,341,469</td>\n",
       "      <td>1</td>\n",
       "    </tr>\n",
       "    <tr>\n",
       "      <th>1</th>\n",
       "      <td>https://m.media-amazon.com/images/M/MV5BM2MyNj...</td>\n",
       "      <td>The Godfather</td>\n",
       "      <td>1972</td>\n",
       "      <td>A</td>\n",
       "      <td>175 min</td>\n",
       "      <td>Crime, Drama</td>\n",
       "      <td>9.2</td>\n",
       "      <td>An organized crime dynasty's aging patriarch t...</td>\n",
       "      <td>100.0</td>\n",
       "      <td>Francis Ford Coppola</td>\n",
       "      <td>Marlon Brando</td>\n",
       "      <td>Al Pacino</td>\n",
       "      <td>James Caan</td>\n",
       "      <td>Diane Keaton</td>\n",
       "      <td>1620367</td>\n",
       "      <td>134,966,411</td>\n",
       "      <td>1</td>\n",
       "    </tr>\n",
       "    <tr>\n",
       "      <th>2</th>\n",
       "      <td>https://m.media-amazon.com/images/M/MV5BMTMxNT...</td>\n",
       "      <td>The Dark Knight</td>\n",
       "      <td>2008</td>\n",
       "      <td>UA</td>\n",
       "      <td>152 min</td>\n",
       "      <td>Action, Crime, Drama</td>\n",
       "      <td>9.0</td>\n",
       "      <td>When the menace known as the Joker wreaks havo...</td>\n",
       "      <td>84.0</td>\n",
       "      <td>Christopher Nolan</td>\n",
       "      <td>Christian Bale</td>\n",
       "      <td>Heath Ledger</td>\n",
       "      <td>Aaron Eckhart</td>\n",
       "      <td>Michael Caine</td>\n",
       "      <td>2303232</td>\n",
       "      <td>534,858,444</td>\n",
       "      <td>1</td>\n",
       "    </tr>\n",
       "    <tr>\n",
       "      <th>3</th>\n",
       "      <td>https://m.media-amazon.com/images/M/MV5BMWMwMG...</td>\n",
       "      <td>The Godfather: Part II</td>\n",
       "      <td>1974</td>\n",
       "      <td>A</td>\n",
       "      <td>202 min</td>\n",
       "      <td>Crime, Drama</td>\n",
       "      <td>9.0</td>\n",
       "      <td>The early life and career of Vito Corleone in ...</td>\n",
       "      <td>90.0</td>\n",
       "      <td>Francis Ford Coppola</td>\n",
       "      <td>Al Pacino</td>\n",
       "      <td>Robert De Niro</td>\n",
       "      <td>Robert Duvall</td>\n",
       "      <td>Diane Keaton</td>\n",
       "      <td>1129952</td>\n",
       "      <td>57,300,000</td>\n",
       "      <td>1</td>\n",
       "    </tr>\n",
       "    <tr>\n",
       "      <th>4</th>\n",
       "      <td>https://m.media-amazon.com/images/M/MV5BMWU4N2...</td>\n",
       "      <td>12 Angry Men</td>\n",
       "      <td>1957</td>\n",
       "      <td>U</td>\n",
       "      <td>96 min</td>\n",
       "      <td>Crime, Drama</td>\n",
       "      <td>9.0</td>\n",
       "      <td>A jury holdout attempts to prevent a miscarria...</td>\n",
       "      <td>96.0</td>\n",
       "      <td>Sidney Lumet</td>\n",
       "      <td>Henry Fonda</td>\n",
       "      <td>Lee J. Cobb</td>\n",
       "      <td>Martin Balsam</td>\n",
       "      <td>John Fiedler</td>\n",
       "      <td>689845</td>\n",
       "      <td>4,360,000</td>\n",
       "      <td>1</td>\n",
       "    </tr>\n",
       "    <tr>\n",
       "      <th>...</th>\n",
       "      <td>...</td>\n",
       "      <td>...</td>\n",
       "      <td>...</td>\n",
       "      <td>...</td>\n",
       "      <td>...</td>\n",
       "      <td>...</td>\n",
       "      <td>...</td>\n",
       "      <td>...</td>\n",
       "      <td>...</td>\n",
       "      <td>...</td>\n",
       "      <td>...</td>\n",
       "      <td>...</td>\n",
       "      <td>...</td>\n",
       "      <td>...</td>\n",
       "      <td>...</td>\n",
       "      <td>...</td>\n",
       "      <td>...</td>\n",
       "    </tr>\n",
       "    <tr>\n",
       "      <th>996</th>\n",
       "      <td>https://m.media-amazon.com/images/M/MV5BODk3Yj...</td>\n",
       "      <td>Giant</td>\n",
       "      <td>1956</td>\n",
       "      <td>G</td>\n",
       "      <td>201 min</td>\n",
       "      <td>Drama, Western</td>\n",
       "      <td>7.6</td>\n",
       "      <td>Sprawling epic covering the life of a Texas ca...</td>\n",
       "      <td>84.0</td>\n",
       "      <td>George Stevens</td>\n",
       "      <td>Elizabeth Taylor</td>\n",
       "      <td>Rock Hudson</td>\n",
       "      <td>James Dean</td>\n",
       "      <td>Carroll Baker</td>\n",
       "      <td>34075</td>\n",
       "      <td>NaN</td>\n",
       "      <td>1</td>\n",
       "    </tr>\n",
       "    <tr>\n",
       "      <th>997</th>\n",
       "      <td>https://m.media-amazon.com/images/M/MV5BM2U3Yz...</td>\n",
       "      <td>From Here to Eternity</td>\n",
       "      <td>1953</td>\n",
       "      <td>Passed</td>\n",
       "      <td>118 min</td>\n",
       "      <td>Drama, Romance, War</td>\n",
       "      <td>7.6</td>\n",
       "      <td>In Hawaii in 1941, a private is cruelly punish...</td>\n",
       "      <td>85.0</td>\n",
       "      <td>Fred Zinnemann</td>\n",
       "      <td>Burt Lancaster</td>\n",
       "      <td>Montgomery Clift</td>\n",
       "      <td>Deborah Kerr</td>\n",
       "      <td>Donna Reed</td>\n",
       "      <td>43374</td>\n",
       "      <td>30,500,000</td>\n",
       "      <td>1</td>\n",
       "    </tr>\n",
       "    <tr>\n",
       "      <th>998</th>\n",
       "      <td>https://m.media-amazon.com/images/M/MV5BZTBmMj...</td>\n",
       "      <td>Lifeboat</td>\n",
       "      <td>1944</td>\n",
       "      <td>NaN</td>\n",
       "      <td>97 min</td>\n",
       "      <td>Drama, War</td>\n",
       "      <td>7.6</td>\n",
       "      <td>Several survivors of a torpedoed merchant ship...</td>\n",
       "      <td>78.0</td>\n",
       "      <td>Alfred Hitchcock</td>\n",
       "      <td>Tallulah Bankhead</td>\n",
       "      <td>John Hodiak</td>\n",
       "      <td>Walter Slezak</td>\n",
       "      <td>William Bendix</td>\n",
       "      <td>26471</td>\n",
       "      <td>NaN</td>\n",
       "      <td>1</td>\n",
       "    </tr>\n",
       "    <tr>\n",
       "      <th>999</th>\n",
       "      <td>https://m.media-amazon.com/images/M/MV5BMTY5OD...</td>\n",
       "      <td>The 39 Steps</td>\n",
       "      <td>1935</td>\n",
       "      <td>NaN</td>\n",
       "      <td>86 min</td>\n",
       "      <td>Crime, Mystery, Thriller</td>\n",
       "      <td>7.6</td>\n",
       "      <td>A man in London tries to help a counter-espion...</td>\n",
       "      <td>93.0</td>\n",
       "      <td>Alfred Hitchcock</td>\n",
       "      <td>Robert Donat</td>\n",
       "      <td>Madeleine Carroll</td>\n",
       "      <td>Lucie Mannheim</td>\n",
       "      <td>Godfrey Tearle</td>\n",
       "      <td>51853</td>\n",
       "      <td>NaN</td>\n",
       "      <td>1</td>\n",
       "    </tr>\n",
       "    <tr>\n",
       "      <th>1000</th>\n",
       "      <td>https://m.media-amazon.com/images/I/91mvvryP+Y...</td>\n",
       "      <td>The Hobbit: The Battle of the Five Armies</td>\n",
       "      <td>2014</td>\n",
       "      <td>UA</td>\n",
       "      <td>161 min</td>\n",
       "      <td>Adventure, Fantasy</td>\n",
       "      <td>7.4</td>\n",
       "      <td>The dwarves, along with Bilbo Baggins and Gand...</td>\n",
       "      <td>59.0</td>\n",
       "      <td>Peter Jackson</td>\n",
       "      <td>Ian McKellen</td>\n",
       "      <td>Martin Freeman</td>\n",
       "      <td>Richard Armitage</td>\n",
       "      <td>Ken Stott</td>\n",
       "      <td>527597</td>\n",
       "      <td>255,119,788</td>\n",
       "      <td>1</td>\n",
       "    </tr>\n",
       "  </tbody>\n",
       "</table>\n",
       "<p>1001 rows × 17 columns</p>\n",
       "</div>"
      ],
      "text/plain": [
       "                                            Poster_Link  \\\n",
       "0     https://m.media-amazon.com/images/M/MV5BMDFkYT...   \n",
       "1     https://m.media-amazon.com/images/M/MV5BM2MyNj...   \n",
       "2     https://m.media-amazon.com/images/M/MV5BMTMxNT...   \n",
       "3     https://m.media-amazon.com/images/M/MV5BMWMwMG...   \n",
       "4     https://m.media-amazon.com/images/M/MV5BMWU4N2...   \n",
       "...                                                 ...   \n",
       "996   https://m.media-amazon.com/images/M/MV5BODk3Yj...   \n",
       "997   https://m.media-amazon.com/images/M/MV5BM2U3Yz...   \n",
       "998   https://m.media-amazon.com/images/M/MV5BZTBmMj...   \n",
       "999   https://m.media-amazon.com/images/M/MV5BMTY5OD...   \n",
       "1000  https://m.media-amazon.com/images/I/91mvvryP+Y...   \n",
       "\n",
       "                                   Series_Title  Released_Year Certificate  \\\n",
       "0                      The Shawshank Redemption           1994           A   \n",
       "1                                 The Godfather           1972           A   \n",
       "2                               The Dark Knight           2008          UA   \n",
       "3                        The Godfather: Part II           1974           A   \n",
       "4                                  12 Angry Men           1957           U   \n",
       "...                                         ...            ...         ...   \n",
       "996                                       Giant           1956           G   \n",
       "997                       From Here to Eternity           1953      Passed   \n",
       "998                                    Lifeboat           1944         NaN   \n",
       "999                                The 39 Steps           1935         NaN   \n",
       "1000  The Hobbit: The Battle of the Five Armies           2014          UA   \n",
       "\n",
       "      Runtime                     Genre  IMDB_Rating  \\\n",
       "0     142 min                     Drama          9.3   \n",
       "1     175 min              Crime, Drama          9.2   \n",
       "2     152 min      Action, Crime, Drama          9.0   \n",
       "3     202 min              Crime, Drama          9.0   \n",
       "4      96 min              Crime, Drama          9.0   \n",
       "...       ...                       ...          ...   \n",
       "996   201 min            Drama, Western          7.6   \n",
       "997   118 min       Drama, Romance, War          7.6   \n",
       "998    97 min                Drama, War          7.6   \n",
       "999    86 min  Crime, Mystery, Thriller          7.6   \n",
       "1000  161 min        Adventure, Fantasy          7.4   \n",
       "\n",
       "                                               Overview  Meta_score  \\\n",
       "0     Two imprisoned men bond over a number of years...        80.0   \n",
       "1     An organized crime dynasty's aging patriarch t...       100.0   \n",
       "2     When the menace known as the Joker wreaks havo...        84.0   \n",
       "3     The early life and career of Vito Corleone in ...        90.0   \n",
       "4     A jury holdout attempts to prevent a miscarria...        96.0   \n",
       "...                                                 ...         ...   \n",
       "996   Sprawling epic covering the life of a Texas ca...        84.0   \n",
       "997   In Hawaii in 1941, a private is cruelly punish...        85.0   \n",
       "998   Several survivors of a torpedoed merchant ship...        78.0   \n",
       "999   A man in London tries to help a counter-espion...        93.0   \n",
       "1000  The dwarves, along with Bilbo Baggins and Gand...        59.0   \n",
       "\n",
       "                  Director              Star1              Star2  \\\n",
       "0           Frank Darabont        Tim Robbins     Morgan Freeman   \n",
       "1     Francis Ford Coppola      Marlon Brando          Al Pacino   \n",
       "2        Christopher Nolan     Christian Bale       Heath Ledger   \n",
       "3     Francis Ford Coppola          Al Pacino     Robert De Niro   \n",
       "4             Sidney Lumet        Henry Fonda        Lee J. Cobb   \n",
       "...                    ...                ...                ...   \n",
       "996         George Stevens   Elizabeth Taylor        Rock Hudson   \n",
       "997         Fred Zinnemann     Burt Lancaster   Montgomery Clift   \n",
       "998       Alfred Hitchcock  Tallulah Bankhead        John Hodiak   \n",
       "999       Alfred Hitchcock       Robert Donat  Madeleine Carroll   \n",
       "1000         Peter Jackson       Ian McKellen     Martin Freeman   \n",
       "\n",
       "                 Star3           Star4  No_of_Votes        Gross  \\\n",
       "0           Bob Gunton  William Sadler      2343110   28,341,469   \n",
       "1           James Caan    Diane Keaton      1620367  134,966,411   \n",
       "2        Aaron Eckhart   Michael Caine      2303232  534,858,444   \n",
       "3        Robert Duvall    Diane Keaton      1129952   57,300,000   \n",
       "4        Martin Balsam    John Fiedler       689845    4,360,000   \n",
       "...                ...             ...          ...          ...   \n",
       "996         James Dean   Carroll Baker        34075          NaN   \n",
       "997       Deborah Kerr      Donna Reed        43374   30,500,000   \n",
       "998      Walter Slezak  William Bendix        26471          NaN   \n",
       "999     Lucie Mannheim  Godfrey Tearle        51853          NaN   \n",
       "1000  Richard Armitage       Ken Stott       527597  255,119,788   \n",
       "\n",
       "      Number_of_Movies  \n",
       "0                    1  \n",
       "1                    1  \n",
       "2                    1  \n",
       "3                    1  \n",
       "4                    1  \n",
       "...                ...  \n",
       "996                  1  \n",
       "997                  1  \n",
       "998                  1  \n",
       "999                  1  \n",
       "1000                 1  \n",
       "\n",
       "[1001 rows x 17 columns]"
      ]
     },
     "metadata": {},
     "output_type": "display_data"
    }
   ],
   "source": [
    "import pandas as pd\n",
    "df1 = pd.read_csv('imdb_top_1000.csv',sep = ',')\n",
    "display(df1)"
   ]
  }
 ],
 "metadata": {
  "kernelspec": {
   "display_name": "Python 3 (ipykernel)",
   "language": "python",
   "name": "python3"
  },
  "language_info": {
   "codemirror_mode": {
    "name": "ipython",
    "version": 3
   },
   "file_extension": ".py",
   "mimetype": "text/x-python",
   "name": "python",
   "nbconvert_exporter": "python",
   "pygments_lexer": "ipython3",
   "version": "3.11.7"
  }
 },
 "nbformat": 4,
 "nbformat_minor": 5
}
